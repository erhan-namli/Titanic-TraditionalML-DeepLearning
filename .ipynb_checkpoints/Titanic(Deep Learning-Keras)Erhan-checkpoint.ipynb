{
 "cells": [
  {
   "cell_type": "markdown",
   "metadata": {},
   "source": [
    "# <font color=\"red\">Titanic Deep Learning </font>"
   ]
  },
  {
   "cell_type": "markdown",
   "metadata": {},
   "source": [
    "**In this project our mission is resolve titanic regression model with deep learning models**"
   ]
  },
  {
   "cell_type": "code",
   "execution_count": 1,
   "metadata": {},
   "outputs": [],
   "source": [
    "import pandas as pd\n",
    "import numpy as np\n",
    "import matplotlib.pyplot as plt\n",
    "%matplotlib inline\n",
    "import seaborn as sns\n",
    "import warnings\n",
    "warnings.filterwarnings(\"ignore\")"
   ]
  },
  {
   "cell_type": "code",
   "execution_count": 2,
   "metadata": {},
   "outputs": [],
   "source": [
    "df=pd.read_csv(\"ttrain.csv\")\n",
    "df2=pd.read_csv(\"ttest.csv\") "
   ]
  },
  {
   "cell_type": "code",
   "execution_count": 3,
   "metadata": {},
   "outputs": [
    {
     "data": {
      "text/html": [
       "<div>\n",
       "<style scoped>\n",
       "    .dataframe tbody tr th:only-of-type {\n",
       "        vertical-align: middle;\n",
       "    }\n",
       "\n",
       "    .dataframe tbody tr th {\n",
       "        vertical-align: top;\n",
       "    }\n",
       "\n",
       "    .dataframe thead th {\n",
       "        text-align: right;\n",
       "    }\n",
       "</style>\n",
       "<table border=\"1\" class=\"dataframe\">\n",
       "  <thead>\n",
       "    <tr style=\"text-align: right;\">\n",
       "      <th></th>\n",
       "      <th>PassengerId</th>\n",
       "      <th>Survived</th>\n",
       "      <th>Pclass</th>\n",
       "      <th>Name</th>\n",
       "      <th>Sex</th>\n",
       "      <th>Age</th>\n",
       "      <th>SibSp</th>\n",
       "      <th>Parch</th>\n",
       "      <th>Ticket</th>\n",
       "      <th>Fare</th>\n",
       "      <th>Cabin</th>\n",
       "      <th>Embarked</th>\n",
       "    </tr>\n",
       "  </thead>\n",
       "  <tbody>\n",
       "    <tr>\n",
       "      <th>0</th>\n",
       "      <td>1</td>\n",
       "      <td>0</td>\n",
       "      <td>3</td>\n",
       "      <td>Braund, Mr. Owen Harris</td>\n",
       "      <td>male</td>\n",
       "      <td>22.0</td>\n",
       "      <td>1</td>\n",
       "      <td>0</td>\n",
       "      <td>A/5 21171</td>\n",
       "      <td>7.2500</td>\n",
       "      <td>NaN</td>\n",
       "      <td>S</td>\n",
       "    </tr>\n",
       "    <tr>\n",
       "      <th>1</th>\n",
       "      <td>2</td>\n",
       "      <td>1</td>\n",
       "      <td>1</td>\n",
       "      <td>Cumings, Mrs. John Bradley (Florence Briggs Th...</td>\n",
       "      <td>female</td>\n",
       "      <td>38.0</td>\n",
       "      <td>1</td>\n",
       "      <td>0</td>\n",
       "      <td>PC 17599</td>\n",
       "      <td>71.2833</td>\n",
       "      <td>C85</td>\n",
       "      <td>C</td>\n",
       "    </tr>\n",
       "    <tr>\n",
       "      <th>2</th>\n",
       "      <td>3</td>\n",
       "      <td>1</td>\n",
       "      <td>3</td>\n",
       "      <td>Heikkinen, Miss. Laina</td>\n",
       "      <td>female</td>\n",
       "      <td>26.0</td>\n",
       "      <td>0</td>\n",
       "      <td>0</td>\n",
       "      <td>STON/O2. 3101282</td>\n",
       "      <td>7.9250</td>\n",
       "      <td>NaN</td>\n",
       "      <td>S</td>\n",
       "    </tr>\n",
       "    <tr>\n",
       "      <th>3</th>\n",
       "      <td>4</td>\n",
       "      <td>1</td>\n",
       "      <td>1</td>\n",
       "      <td>Futrelle, Mrs. Jacques Heath (Lily May Peel)</td>\n",
       "      <td>female</td>\n",
       "      <td>35.0</td>\n",
       "      <td>1</td>\n",
       "      <td>0</td>\n",
       "      <td>113803</td>\n",
       "      <td>53.1000</td>\n",
       "      <td>C123</td>\n",
       "      <td>S</td>\n",
       "    </tr>\n",
       "    <tr>\n",
       "      <th>4</th>\n",
       "      <td>5</td>\n",
       "      <td>0</td>\n",
       "      <td>3</td>\n",
       "      <td>Allen, Mr. William Henry</td>\n",
       "      <td>male</td>\n",
       "      <td>35.0</td>\n",
       "      <td>0</td>\n",
       "      <td>0</td>\n",
       "      <td>373450</td>\n",
       "      <td>8.0500</td>\n",
       "      <td>NaN</td>\n",
       "      <td>S</td>\n",
       "    </tr>\n",
       "  </tbody>\n",
       "</table>\n",
       "</div>"
      ],
      "text/plain": [
       "   PassengerId  Survived  Pclass  \\\n",
       "0            1         0       3   \n",
       "1            2         1       1   \n",
       "2            3         1       3   \n",
       "3            4         1       1   \n",
       "4            5         0       3   \n",
       "\n",
       "                                                Name     Sex   Age  SibSp  \\\n",
       "0                            Braund, Mr. Owen Harris    male  22.0      1   \n",
       "1  Cumings, Mrs. John Bradley (Florence Briggs Th...  female  38.0      1   \n",
       "2                             Heikkinen, Miss. Laina  female  26.0      0   \n",
       "3       Futrelle, Mrs. Jacques Heath (Lily May Peel)  female  35.0      1   \n",
       "4                           Allen, Mr. William Henry    male  35.0      0   \n",
       "\n",
       "   Parch            Ticket     Fare Cabin Embarked  \n",
       "0      0         A/5 21171   7.2500   NaN        S  \n",
       "1      0          PC 17599  71.2833   C85        C  \n",
       "2      0  STON/O2. 3101282   7.9250   NaN        S  \n",
       "3      0            113803  53.1000  C123        S  \n",
       "4      0            373450   8.0500   NaN        S  "
      ]
     },
     "execution_count": 3,
     "metadata": {},
     "output_type": "execute_result"
    }
   ],
   "source": [
    "df.head()"
   ]
  },
  {
   "cell_type": "code",
   "execution_count": 4,
   "metadata": {},
   "outputs": [
    {
     "data": {
      "text/plain": [
       "Index(['PassengerId', 'Survived', 'Pclass', 'Name', 'Sex', 'Age', 'SibSp',\n",
       "       'Parch', 'Ticket', 'Fare', 'Cabin', 'Embarked'],\n",
       "      dtype='object')"
      ]
     },
     "execution_count": 4,
     "metadata": {},
     "output_type": "execute_result"
    }
   ],
   "source": [
    "df.columns"
   ]
  },
  {
   "cell_type": "code",
   "execution_count": 5,
   "metadata": {},
   "outputs": [
    {
     "name": "stdout",
     "output_type": "stream",
     "text": [
      "<class 'pandas.core.frame.DataFrame'>\n",
      "RangeIndex: 891 entries, 0 to 890\n",
      "Data columns (total 12 columns):\n",
      " #   Column       Non-Null Count  Dtype  \n",
      "---  ------       --------------  -----  \n",
      " 0   PassengerId  891 non-null    int64  \n",
      " 1   Survived     891 non-null    int64  \n",
      " 2   Pclass       891 non-null    int64  \n",
      " 3   Name         891 non-null    object \n",
      " 4   Sex          891 non-null    object \n",
      " 5   Age          714 non-null    float64\n",
      " 6   SibSp        891 non-null    int64  \n",
      " 7   Parch        891 non-null    int64  \n",
      " 8   Ticket       891 non-null    object \n",
      " 9   Fare         891 non-null    float64\n",
      " 10  Cabin        204 non-null    object \n",
      " 11  Embarked     889 non-null    object \n",
      "dtypes: float64(2), int64(5), object(5)\n",
      "memory usage: 83.7+ KB\n"
     ]
    }
   ],
   "source": [
    "df.info()"
   ]
  },
  {
   "cell_type": "code",
   "execution_count": 6,
   "metadata": {},
   "outputs": [
    {
     "data": {
      "text/plain": [
       "PassengerId      0\n",
       "Survived         0\n",
       "Pclass           0\n",
       "Name             0\n",
       "Sex              0\n",
       "Age            177\n",
       "SibSp            0\n",
       "Parch            0\n",
       "Ticket           0\n",
       "Fare             0\n",
       "Cabin          687\n",
       "Embarked         2\n",
       "dtype: int64"
      ]
     },
     "execution_count": 6,
     "metadata": {},
     "output_type": "execute_result"
    }
   ],
   "source": [
    "df.isnull().sum()"
   ]
  },
  {
   "cell_type": "code",
   "execution_count": 7,
   "metadata": {},
   "outputs": [
    {
     "data": {
      "text/plain": [
       "0      0\n",
       "1      1\n",
       "2      1\n",
       "3      1\n",
       "4      0\n",
       "      ..\n",
       "886    0\n",
       "887    1\n",
       "888    0\n",
       "889    1\n",
       "890    0\n",
       "Name: Survived, Length: 891, dtype: int64"
      ]
     },
     "execution_count": 7,
     "metadata": {},
     "output_type": "execute_result"
    }
   ],
   "source": [
    "df['Survived']"
   ]
  },
  {
   "cell_type": "code",
   "execution_count": 8,
   "metadata": {},
   "outputs": [],
   "source": [
    "def bar_chart(feature): # There is a function that doing bar chart\n",
    "    survived = df[df['Survived']==1][feature].value_counts()\n",
    "    dead = df[df['Survived']==0][feature].value_counts()\n",
    "    new_df = pd.DataFrame([survived,dead])\n",
    "    new_df.index = ['Survived','Dead']\n",
    "    new_df.plot(kind='bar',stacked=True, figsize=(10,5))"
   ]
  },
  {
   "cell_type": "markdown",
   "metadata": {},
   "source": [
    "# Data Preparing "
   ]
  },
  {
   "cell_type": "markdown",
   "metadata": {},
   "source": [
    "**I will do same preparing procces both dataframe because in the last part i will do predicting and in the predicting part test data must consist numbers like first dataframe. Second df (exactly df2) has no 'Survived' due to this is the test data.**"
   ]
  },
  {
   "cell_type": "markdown",
   "metadata": {},
   "source": [
    "### Title (class segmentation)"
   ]
  },
  {
   "cell_type": "code",
   "execution_count": 9,
   "metadata": {},
   "outputs": [
    {
     "data": {
      "text/plain": [
       "0                                Braund, Mr. Owen Harris\n",
       "1      Cumings, Mrs. John Bradley (Florence Briggs Th...\n",
       "2                                 Heikkinen, Miss. Laina\n",
       "3           Futrelle, Mrs. Jacques Heath (Lily May Peel)\n",
       "4                               Allen, Mr. William Henry\n",
       "                             ...                        \n",
       "886                                Montvila, Rev. Juozas\n",
       "887                         Graham, Miss. Margaret Edith\n",
       "888             Johnston, Miss. Catherine Helen \"Carrie\"\n",
       "889                                Behr, Mr. Karl Howell\n",
       "890                                  Dooley, Mr. Patrick\n",
       "Name: Name, Length: 891, dtype: object"
      ]
     },
     "execution_count": 9,
     "metadata": {},
     "output_type": "execute_result"
    }
   ],
   "source": [
    "df['Name']"
   ]
  },
  {
   "cell_type": "code",
   "execution_count": 10,
   "metadata": {},
   "outputs": [],
   "source": [
    "df['Title'] = df['Name'].str.extract(' ([A-Za-z]+)\\.', expand=False) # remove that ends with punctuation part\n",
    "\n",
    "#### ---- DF2 -----\n",
    "\n",
    "df2['Title'] = df['Name'].str.extract(' ([A-Za-z]+)\\.', expand=False)"
   ]
  },
  {
   "cell_type": "code",
   "execution_count": 11,
   "metadata": {},
   "outputs": [
    {
     "data": {
      "text/plain": [
       "(0        Mr\n",
       " 1       Mrs\n",
       " 2      Miss\n",
       " 3       Mrs\n",
       " 4        Mr\n",
       "        ... \n",
       " 886     Rev\n",
       " 887    Miss\n",
       " 888    Miss\n",
       " 889      Mr\n",
       " 890      Mr\n",
       " Name: Title, Length: 891, dtype: object,\n",
       " 0        Mr\n",
       " 1       Mrs\n",
       " 2      Miss\n",
       " 3       Mrs\n",
       " 4        Mr\n",
       "        ... \n",
       " 413      Mr\n",
       " 414      Mr\n",
       " 415     Mrs\n",
       " 416     Mrs\n",
       " 417    Miss\n",
       " Name: Title, Length: 418, dtype: object)"
      ]
     },
     "execution_count": 11,
     "metadata": {},
     "output_type": "execute_result"
    }
   ],
   "source": [
    "df['Title'] , df2['Title']"
   ]
  },
  {
   "cell_type": "code",
   "execution_count": 12,
   "metadata": {},
   "outputs": [
    {
     "data": {
      "text/plain": [
       "Mr          517\n",
       "Miss        182\n",
       "Mrs         125\n",
       "Master       40\n",
       "Dr            7\n",
       "Rev           6\n",
       "Col           2\n",
       "Major         2\n",
       "Mlle          2\n",
       "Capt          1\n",
       "Lady          1\n",
       "Don           1\n",
       "Ms            1\n",
       "Sir           1\n",
       "Jonkheer      1\n",
       "Countess      1\n",
       "Mme           1\n",
       "Name: Title, dtype: int64"
      ]
     },
     "execution_count": 12,
     "metadata": {},
     "output_type": "execute_result"
    }
   ],
   "source": [
    "df['Title'].value_counts()"
   ]
  },
  {
   "cell_type": "code",
   "execution_count": 13,
   "metadata": {},
   "outputs": [],
   "source": [
    "df['Title'] = df['Name'].str.extract(' ([A-Za-z]+)\\.')\n",
    "df['Title'] = df['Title'].replace(['Ms','Mlle'],'Miss')\n",
    "df['Title'] = df['Title'].replace(['Mme','Countless','Lady','Dona'],'Mrs')\n",
    "df['Title'] = df['Title'].replace(['Dr','Major','Col','Sir','Rev','Jonkheer','Capt','Don'],'Mr')\n",
    "\n",
    "#### ---- DF2 -----\n",
    "\n",
    "df2['Title'] = df['Name'].str.extract(' ([A-Za-z]+)\\.')\n",
    "df2['Title'] = df['Title'].replace(['Ms','Mlle'],'Miss')\n",
    "df2['Title'] = df['Title'].replace(['Mme','Countless','Lady','Dona'],'Mrs')\n",
    "df2['Title'] = df['Title'].replace(['Dr','Major','Col','Sir','Rev','Jonkheer','Capt','Don'],'Mr')"
   ]
  },
  {
   "cell_type": "code",
   "execution_count": 14,
   "metadata": {},
   "outputs": [],
   "source": [
    "title_mapping = {'Mr':0, 'Mrs':1, 'Miss':2}\n",
    "\n",
    "df['Title'] = df['Title'].map(title_mapping)\n",
    "\n",
    "#### ---- DF2 -----\n",
    "\n",
    "df2['Title'] = df2['Title'].map(title_mapping)"
   ]
  },
  {
   "cell_type": "code",
   "execution_count": 15,
   "metadata": {},
   "outputs": [
    {
     "data": {
      "text/plain": [
       "(0      0.0\n",
       " 1      1.0\n",
       " 2      2.0\n",
       " 3      1.0\n",
       " 4      0.0\n",
       "       ... \n",
       " 886    0.0\n",
       " 887    2.0\n",
       " 888    2.0\n",
       " 889    0.0\n",
       " 890    0.0\n",
       " Name: Title, Length: 891, dtype: float64,\n",
       " 0      0.0\n",
       " 1      1.0\n",
       " 2      2.0\n",
       " 3      1.0\n",
       " 4      0.0\n",
       "       ... \n",
       " 413    0.0\n",
       " 414    0.0\n",
       " 415    1.0\n",
       " 416    1.0\n",
       " 417    2.0\n",
       " Name: Title, Length: 418, dtype: float64)"
      ]
     },
     "execution_count": 15,
     "metadata": {},
     "output_type": "execute_result"
    }
   ],
   "source": [
    "df['Title'], df2['Title']"
   ]
  },
  {
   "cell_type": "code",
   "execution_count": 16,
   "metadata": {},
   "outputs": [],
   "source": [
    "df['Title'].fillna(\"\", inplace=True)\n",
    "\n",
    "#### ---- DF2 -----\n",
    "\n",
    "df2['Title'].fillna(\"\", inplace=True)"
   ]
  },
  {
   "cell_type": "code",
   "execution_count": 17,
   "metadata": {},
   "outputs": [
    {
     "data": {
      "text/plain": [
       "0"
      ]
     },
     "execution_count": 17,
     "metadata": {},
     "output_type": "execute_result"
    }
   ],
   "source": [
    "df['Title'].isnull().sum()"
   ]
  },
  {
   "cell_type": "code",
   "execution_count": 18,
   "metadata": {},
   "outputs": [
    {
     "data": {
      "image/png": "[encoded data removed]",
      "text/plain": [
       "<Figure size 720x360 with 1 Axes>"
      ]
     },
     "metadata": {
      "needs_background": "light"
     },
     "output_type": "display_data"
    }
   ],
   "source": [
    "bar_chart('Title') # 0 = Mr. - 1 = Mrs. - 2 = Mr"
   ]
  },
  {
   "cell_type": "markdown",
   "metadata": {},
   "source": [
    "### Age"
   ]
  },
  {
   "cell_type": "code",
   "execution_count": 19,
   "metadata": {},
   "outputs": [
    {
     "data": {
      "text/plain": [
       "Sex\n",
       "female    27.915709\n",
       "male      30.726645\n",
       "Name: Age, dtype: float64"
      ]
     },
     "execution_count": 19,
     "metadata": {},
     "output_type": "execute_result"
    }
   ],
   "source": [
    "df.groupby('Sex')['Age'].mean()"
   ]
  },
  {
   "cell_type": "markdown",
   "metadata": {},
   "source": [
    "#### Adding a Senior column\n"
   ]
  },
  {
   "cell_type": "code",
   "execution_count": 20,
   "metadata": {},
   "outputs": [],
   "source": [
    "df['Senior'] = df['Age'].map(lambda s:1 if s>70 else 0) # 1 represents to over the age of 70 years is senior\n",
    "\n",
    "#### ---- DF2 -----\n",
    "\n",
    "df2['Senior'] = df2['Age'].map(lambda s:1 if s>70 else 0)"
   ]
  },
  {
   "cell_type": "code",
   "execution_count": 21,
   "metadata": {},
   "outputs": [],
   "source": [
    "df['Age'].fillna(df.groupby(\"Title\")['Age'].transform('median'), inplace=True) \n",
    "\n",
    "#### ---- DF2 -----\n",
    "\n",
    "df2['Age'].fillna(df2.groupby(\"Title\")['Age'].transform('median'), inplace=True) "
   ]
  },
  {
   "cell_type": "code",
   "execution_count": 22,
   "metadata": {},
   "outputs": [
    {
     "data": {
      "text/plain": [
       "71"
      ]
     },
     "execution_count": 22,
     "metadata": {},
     "output_type": "execute_result"
    }
   ],
   "source": [
    "df['Age'] = df['Age'].astype('int64')\n",
    "\n",
    "#### ---- DF2 -----\n",
    "\n",
    "df2['Age'] = df2['Age'].astype('int64')\n",
    "df['Age'].nunique()"
   ]
  },
  {
   "cell_type": "code",
   "execution_count": 23,
   "metadata": {},
   "outputs": [],
   "source": [
    "df.loc[ df['Age'] <= 16, 'Age'] = 0\n",
    "df.loc[(df['Age'] > 16) & (df['Age'] <= 26), 'Age'] = 1\n",
    "df.loc[(df['Age'] > 26) & (df['Age'] <= 36), 'Age'] = 2\n",
    "df.loc[(df['Age'] > 36) & (df['Age'] <= 62), 'Age'] = 3\n",
    "df.loc[ df['Age'] > 62, 'Age'] = 4\n",
    "\n",
    "#### ---- DF2 -----\n",
    "\n",
    "df2.loc[ df2['Age'] <= 16, 'Age'] = 0\n",
    "df2.loc[(df2['Age'] > 16) & (df2['Age'] <= 26), 'Age'] = 1\n",
    "df2.loc[(df2['Age'] > 26) & (df2['Age'] <= 36), 'Age'] = 2\n",
    "df2.loc[(df2['Age'] > 36) & (df2['Age'] <= 62), 'Age'] = 3\n",
    "df2.loc[ df2['Age'] > 62, 'Age'] = 4"
   ]
  },
  {
   "cell_type": "code",
   "execution_count": 24,
   "metadata": {},
   "outputs": [],
   "source": [
    "#2"
   ]
  },
  {
   "cell_type": "code",
   "execution_count": 25,
   "metadata": {},
   "outputs": [
    {
     "data": {
      "image/png": "[encoded data removed]",
      "text/plain": [
       "<Figure size 720x360 with 1 Axes>"
      ]
     },
     "metadata": {
      "needs_background": "light"
     },
     "output_type": "display_data"
    }
   ],
   "source": [
    "bar_chart('Age')"
   ]
  },
  {
   "cell_type": "markdown",
   "metadata": {},
   "source": [
    "### Embarked"
   ]
  },
  {
   "cell_type": "code",
   "execution_count": 26,
   "metadata": {},
   "outputs": [
    {
     "data": {
      "text/plain": [
       "<AxesSubplot:>"
      ]
     },
     "execution_count": 26,
     "metadata": {},
     "output_type": "execute_result"
    },
    {
     "data": {
      "image/png": "[encoded data removed]",
      "text/plain": [
       "<Figure size 720x360 with 1 Axes>"
      ]
     },
     "metadata": {
      "needs_background": "light"
     },
     "output_type": "display_data"
    }
   ],
   "source": [
    "# Train Data\n",
    "\n",
    "Pclass1 = df[df['Pclass']==1]['Embarked'].value_counts()\n",
    "Pclass2 = df[df['Pclass']==2]['Embarked'].value_counts()\n",
    "Pclass3 = df[df['Pclass']==3]['Embarked'].value_counts()\n",
    "temp_Df = pd.DataFrame([Pclass1, Pclass2, Pclass3])\n",
    "temp_Df.index = ['1st class', '2nd class', '3rd class']\n",
    "temp_Df.plot(kind='bar', stacked = True, figsize=(10,5))"
   ]
  },
  {
   "cell_type": "code",
   "execution_count": 27,
   "metadata": {},
   "outputs": [
    {
     "data": {
      "text/plain": [
       "<AxesSubplot:>"
      ]
     },
     "execution_count": 27,
     "metadata": {},
     "output_type": "execute_result"
    },
    {
     "data": {
      "image/png": "[encoded data removed]",
      "text/plain": [
       "<Figure size 720x360 with 1 Axes>"
      ]
     },
     "metadata": {
      "needs_background": "light"
     },
     "output_type": "display_data"
    }
   ],
   "source": [
    "# Test Data\n",
    "\n",
    "Pclass1 = df2[df2['Pclass']==1]['Embarked'].value_counts()\n",
    "Pclass2 = df2[df2['Pclass']==2]['Embarked'].value_counts()\n",
    "Pclass3 = df2[df2['Pclass']==3]['Embarked'].value_counts()\n",
    "temp_Df = pd.DataFrame([Pclass1, Pclass2, Pclass3])\n",
    "temp_Df.index = ['1st class', '2nd class', '3rd class']\n",
    "temp_Df.plot(kind='bar', stacked = True, figsize=(10,5))"
   ]
  },
  {
   "cell_type": "code",
   "execution_count": 28,
   "metadata": {},
   "outputs": [],
   "source": [
    "# We filled Null values with S value because most of the people embarked at S port\n",
    "\n",
    "df['Embarked'].fillna('S', inplace=True)"
   ]
  },
  {
   "cell_type": "code",
   "execution_count": 29,
   "metadata": {},
   "outputs": [],
   "source": [
    "embarked_mapping = {\"S\": 0, \"C\": 1, \"Q\": 2}\n",
    "df['Embarked'] = df['Embarked'].map(embarked_mapping)\n",
    "\n",
    "#### ---- DF2 -----\n",
    "\n",
    "df2['Embarked'] = df2['Embarked'].map(embarked_mapping)"
   ]
  },
  {
   "cell_type": "markdown",
   "metadata": {},
   "source": [
    "## Fare"
   ]
  },
  {
   "cell_type": "code",
   "execution_count": 30,
   "metadata": {},
   "outputs": [
    {
     "data": {
      "text/plain": [
       "0        7.8292\n",
       "1        7.0000\n",
       "2        9.6875\n",
       "3        8.6625\n",
       "4       12.2875\n",
       "         ...   \n",
       "413      8.0500\n",
       "414    108.9000\n",
       "415      7.2500\n",
       "416      8.0500\n",
       "417     22.3583\n",
       "Name: Fare, Length: 418, dtype: float64"
      ]
     },
     "execution_count": 30,
     "metadata": {},
     "output_type": "execute_result"
    }
   ],
   "source": [
    "# We filled null values by median of every specific Pclass \n",
    "\n",
    "\n",
    "df[\"Fare\"].fillna(df.groupby(\"Pclass\")[\"Fare\"].transform(\"median\"), inplace=True)\n",
    "df.head(50)\n",
    "df['Fare'].astype(\"float64\")\n",
    "\n",
    "#### ---- DF2 -----\n",
    "\n",
    "df2[\"Fare\"].fillna(df2.groupby(\"Pclass\")[\"Fare\"].transform(\"median\"), inplace=True)\n",
    "df2.head(50)\n",
    "df2['Fare'].astype(\"float64\")"
   ]
  },
  {
   "cell_type": "code",
   "execution_count": 31,
   "metadata": {},
   "outputs": [],
   "source": [
    "df.loc[df['Fare'] <= 17, 'Fare'] = 0\n",
    "df.loc[(df['Fare']>17) & (df['Fare'] <= 30), 'Fare'] = 1\n",
    "df.loc[(df['Fare']>30) & (df['Fare'] <= 100), 'Fare'] = 2\n",
    "df.loc[(df['Fare']>100),'Fare'] = 3\n",
    "\n",
    "#### ---- DF2 -----\n",
    "\n",
    "df2.loc[df2['Fare'] <= 17, 'Fare'] = 0\n",
    "df2.loc[(df2['Fare']>17) & (df2['Fare'] <= 30), 'Fare'] = 1\n",
    "df2.loc[(df2['Fare']>30) & (df2['Fare'] <= 100), 'Fare'] = 2\n",
    "df2.loc[(df2['Fare']>100),'Fare'] = 3"
   ]
  },
  {
   "cell_type": "code",
   "execution_count": 32,
   "metadata": {},
   "outputs": [
    {
     "data": {
      "text/plain": [
       "4"
      ]
     },
     "execution_count": 32,
     "metadata": {},
     "output_type": "execute_result"
    }
   ],
   "source": [
    "df['Fare'].nunique()"
   ]
  },
  {
   "cell_type": "code",
   "execution_count": 33,
   "metadata": {},
   "outputs": [
    {
     "data": {
      "image/png": "[encoded data removed]",
      "text/plain": [
       "<Figure size 720x360 with 1 Axes>"
      ]
     },
     "metadata": {
      "needs_background": "light"
     },
     "output_type": "display_data"
    }
   ],
   "source": [
    "bar_chart('Fare')"
   ]
  },
  {
   "cell_type": "markdown",
   "metadata": {},
   "source": [
    "## Cabin"
   ]
  },
  {
   "cell_type": "code",
   "execution_count": 34,
   "metadata": {},
   "outputs": [
    {
     "data": {
      "text/plain": [
       "0       NaN\n",
       "1       C85\n",
       "2       NaN\n",
       "3      C123\n",
       "4       NaN\n",
       "       ... \n",
       "886     NaN\n",
       "887     B42\n",
       "888     NaN\n",
       "889    C148\n",
       "890     NaN\n",
       "Name: Cabin, Length: 891, dtype: object"
      ]
     },
     "execution_count": 34,
     "metadata": {},
     "output_type": "execute_result"
    }
   ],
   "source": [
    "df['Cabin']"
   ]
  },
  {
   "cell_type": "code",
   "execution_count": 35,
   "metadata": {},
   "outputs": [],
   "source": [
    "# Taking just first letter of Cabin text\n",
    "\n",
    "df['Cabin'] = df['Cabin'].str[:1]\n",
    "\n",
    "#### ---- DF2 -----\n",
    "\n",
    "df2['Cabin'] = df2['Cabin'].str[:1]"
   ]
  },
  {
   "cell_type": "code",
   "execution_count": 36,
   "metadata": {},
   "outputs": [],
   "source": [
    "# Converting values to float\n",
    "\n",
    "cabin_mapping = {\"A\": 0, \"B\": 0.4, \"C\": 0.8, \"D\": 1.2, \"E\": 1.6, \"F\": 2, \"G\": 2.4, \"T\": 2.8}\n",
    "df['Cabin'] = df['Cabin'].map(cabin_mapping)\n",
    "\n",
    "#### ---- DF2 -----\n",
    "\n",
    "df2['Cabin'] = df2['Cabin'].map(cabin_mapping)"
   ]
  },
  {
   "cell_type": "code",
   "execution_count": 37,
   "metadata": {},
   "outputs": [],
   "source": [
    "# Filling null values\n",
    "\n",
    "df[\"Cabin\"].fillna(df.groupby(\"Pclass\")[\"Cabin\"].transform(\"median\"), inplace=True)\n",
    "\n",
    "#### ---- DF2 -----\n",
    "\n",
    "df2[\"Cabin\"].fillna(df2.groupby(\"Pclass\")[\"Cabin\"].transform(\"median\"), inplace=True)"
   ]
  },
  {
   "cell_type": "markdown",
   "metadata": {},
   "source": [
    "## Family Size"
   ]
  },
  {
   "cell_type": "code",
   "execution_count": 38,
   "metadata": {},
   "outputs": [],
   "source": [
    "# Adding a Family Size columns and filled by sum of siblings and parents\n",
    "\n",
    "df['FamilySize'] = df['SibSp'] + df['Parch'] +1\n",
    "\n",
    "#### ---- DF2 -----\n",
    "\n",
    "df2['FamilySize'] = df2['SibSp'] + df2['Parch'] +1"
   ]
  },
  {
   "cell_type": "code",
   "execution_count": 39,
   "metadata": {},
   "outputs": [],
   "source": [
    "family_mapping = {1: 0, 2: 0.4, 3: 0.8, 4: 1.2, 5: 1.6, 6: 2, 7: 2.4, 8: 2.8, 9: 3.2, 10: 3.6, 11: 4}\n",
    "df['FamilySize'] = df['FamilySize'].map(family_mapping)\n",
    "\n",
    "#### ---- DF2 -----\n",
    "\n",
    "df2['FamilySize'] = df2['FamilySize'].map(family_mapping)"
   ]
  },
  {
   "cell_type": "markdown",
   "metadata": {},
   "source": [
    "## Sex"
   ]
  },
  {
   "cell_type": "code",
   "execution_count": 40,
   "metadata": {},
   "outputs": [],
   "source": [
    "sex_mapping = {\"male\": 0, \"female\": 1}\n",
    "df['Sex'] = df['Sex'].map(sex_mapping)\n",
    "\n",
    "#### ---- DF2 -----\n",
    "\n",
    "df2['Sex'] = df2['Sex'].map(sex_mapping)"
   ]
  },
  {
   "cell_type": "markdown",
   "metadata": {},
   "source": [
    "### Dropping unimportant columns"
   ]
  },
  {
   "cell_type": "code",
   "execution_count": 41,
   "metadata": {},
   "outputs": [],
   "source": [
    "features_drop = ['Ticket', 'SibSp', 'Parch','Name','PassengerId']\n",
    "df = df.drop(features_drop, axis=1)\n",
    "\n",
    "#### ---- DF2 -----\n",
    "\n",
    "df2 = df2.drop(features_drop, axis=1)"
   ]
  },
  {
   "cell_type": "code",
   "execution_count": 42,
   "metadata": {},
   "outputs": [
    {
     "data": {
      "text/html": [
       "<div>\n",
       "<style scoped>\n",
       "    .dataframe tbody tr th:only-of-type {\n",
       "        vertical-align: middle;\n",
       "    }\n",
       "\n",
       "    .dataframe tbody tr th {\n",
       "        vertical-align: top;\n",
       "    }\n",
       "\n",
       "    .dataframe thead th {\n",
       "        text-align: right;\n",
       "    }\n",
       "</style>\n",
       "<table border=\"1\" class=\"dataframe\">\n",
       "  <thead>\n",
       "    <tr style=\"text-align: right;\">\n",
       "      <th></th>\n",
       "      <th>Survived</th>\n",
       "      <th>Pclass</th>\n",
       "      <th>Sex</th>\n",
       "      <th>Age</th>\n",
       "      <th>Fare</th>\n",
       "      <th>Cabin</th>\n",
       "      <th>Embarked</th>\n",
       "      <th>Title</th>\n",
       "      <th>Senior</th>\n",
       "      <th>FamilySize</th>\n",
       "    </tr>\n",
       "  </thead>\n",
       "  <tbody>\n",
       "    <tr>\n",
       "      <th>0</th>\n",
       "      <td>0</td>\n",
       "      <td>3</td>\n",
       "      <td>0</td>\n",
       "      <td>1</td>\n",
       "      <td>0.0</td>\n",
       "      <td>2.0</td>\n",
       "      <td>0</td>\n",
       "      <td>0</td>\n",
       "      <td>0</td>\n",
       "      <td>0.4</td>\n",
       "    </tr>\n",
       "    <tr>\n",
       "      <th>1</th>\n",
       "      <td>1</td>\n",
       "      <td>1</td>\n",
       "      <td>1</td>\n",
       "      <td>3</td>\n",
       "      <td>2.0</td>\n",
       "      <td>0.8</td>\n",
       "      <td>1</td>\n",
       "      <td>1</td>\n",
       "      <td>0</td>\n",
       "      <td>0.4</td>\n",
       "    </tr>\n",
       "    <tr>\n",
       "      <th>2</th>\n",
       "      <td>1</td>\n",
       "      <td>3</td>\n",
       "      <td>1</td>\n",
       "      <td>1</td>\n",
       "      <td>0.0</td>\n",
       "      <td>2.0</td>\n",
       "      <td>0</td>\n",
       "      <td>2</td>\n",
       "      <td>0</td>\n",
       "      <td>0.0</td>\n",
       "    </tr>\n",
       "    <tr>\n",
       "      <th>3</th>\n",
       "      <td>1</td>\n",
       "      <td>1</td>\n",
       "      <td>1</td>\n",
       "      <td>2</td>\n",
       "      <td>2.0</td>\n",
       "      <td>0.8</td>\n",
       "      <td>0</td>\n",
       "      <td>1</td>\n",
       "      <td>0</td>\n",
       "      <td>0.4</td>\n",
       "    </tr>\n",
       "    <tr>\n",
       "      <th>4</th>\n",
       "      <td>0</td>\n",
       "      <td>3</td>\n",
       "      <td>0</td>\n",
       "      <td>2</td>\n",
       "      <td>0.0</td>\n",
       "      <td>2.0</td>\n",
       "      <td>0</td>\n",
       "      <td>0</td>\n",
       "      <td>0</td>\n",
       "      <td>0.0</td>\n",
       "    </tr>\n",
       "  </tbody>\n",
       "</table>\n",
       "</div>"
      ],
      "text/plain": [
       "   Survived  Pclass  Sex  Age  Fare  Cabin  Embarked Title  Senior  FamilySize\n",
       "0         0       3    0    1   0.0    2.0         0     0       0         0.4\n",
       "1         1       1    1    3   2.0    0.8         1     1       0         0.4\n",
       "2         1       3    1    1   0.0    2.0         0     2       0         0.0\n",
       "3         1       1    1    2   2.0    0.8         0     1       0         0.4\n",
       "4         0       3    0    2   0.0    2.0         0     0       0         0.0"
      ]
     },
     "execution_count": 42,
     "metadata": {},
     "output_type": "execute_result"
    }
   ],
   "source": [
    "df.head()"
   ]
  },
  {
   "cell_type": "code",
   "execution_count": 43,
   "metadata": {},
   "outputs": [
    {
     "data": {
      "text/html": [
       "<div>\n",
       "<style scoped>\n",
       "    .dataframe tbody tr th:only-of-type {\n",
       "        vertical-align: middle;\n",
       "    }\n",
       "\n",
       "    .dataframe tbody tr th {\n",
       "        vertical-align: top;\n",
       "    }\n",
       "\n",
       "    .dataframe thead th {\n",
       "        text-align: right;\n",
       "    }\n",
       "</style>\n",
       "<table border=\"1\" class=\"dataframe\">\n",
       "  <thead>\n",
       "    <tr style=\"text-align: right;\">\n",
       "      <th></th>\n",
       "      <th>Pclass</th>\n",
       "      <th>Sex</th>\n",
       "      <th>Age</th>\n",
       "      <th>Fare</th>\n",
       "      <th>Cabin</th>\n",
       "      <th>Embarked</th>\n",
       "      <th>Title</th>\n",
       "      <th>Senior</th>\n",
       "      <th>FamilySize</th>\n",
       "    </tr>\n",
       "  </thead>\n",
       "  <tbody>\n",
       "    <tr>\n",
       "      <th>0</th>\n",
       "      <td>3</td>\n",
       "      <td>0</td>\n",
       "      <td>2</td>\n",
       "      <td>0.0</td>\n",
       "      <td>2.0</td>\n",
       "      <td>2</td>\n",
       "      <td>0</td>\n",
       "      <td>0</td>\n",
       "      <td>0.0</td>\n",
       "    </tr>\n",
       "    <tr>\n",
       "      <th>1</th>\n",
       "      <td>3</td>\n",
       "      <td>1</td>\n",
       "      <td>3</td>\n",
       "      <td>0.0</td>\n",
       "      <td>2.0</td>\n",
       "      <td>0</td>\n",
       "      <td>1</td>\n",
       "      <td>0</td>\n",
       "      <td>0.4</td>\n",
       "    </tr>\n",
       "    <tr>\n",
       "      <th>2</th>\n",
       "      <td>2</td>\n",
       "      <td>0</td>\n",
       "      <td>3</td>\n",
       "      <td>0.0</td>\n",
       "      <td>2.0</td>\n",
       "      <td>2</td>\n",
       "      <td>2</td>\n",
       "      <td>0</td>\n",
       "      <td>0.0</td>\n",
       "    </tr>\n",
       "    <tr>\n",
       "      <th>3</th>\n",
       "      <td>3</td>\n",
       "      <td>0</td>\n",
       "      <td>2</td>\n",
       "      <td>0.0</td>\n",
       "      <td>2.0</td>\n",
       "      <td>0</td>\n",
       "      <td>1</td>\n",
       "      <td>0</td>\n",
       "      <td>0.0</td>\n",
       "    </tr>\n",
       "    <tr>\n",
       "      <th>4</th>\n",
       "      <td>3</td>\n",
       "      <td>1</td>\n",
       "      <td>1</td>\n",
       "      <td>0.0</td>\n",
       "      <td>2.0</td>\n",
       "      <td>0</td>\n",
       "      <td>0</td>\n",
       "      <td>0</td>\n",
       "      <td>0.8</td>\n",
       "    </tr>\n",
       "  </tbody>\n",
       "</table>\n",
       "</div>"
      ],
      "text/plain": [
       "   Pclass  Sex  Age  Fare  Cabin  Embarked Title  Senior  FamilySize\n",
       "0       3    0    2   0.0    2.0         2     0       0         0.0\n",
       "1       3    1    3   0.0    2.0         0     1       0         0.4\n",
       "2       2    0    3   0.0    2.0         2     2       0         0.0\n",
       "3       3    0    2   0.0    2.0         0     1       0         0.0\n",
       "4       3    1    1   0.0    2.0         0     0       0         0.8"
      ]
     },
     "execution_count": 43,
     "metadata": {},
     "output_type": "execute_result"
    }
   ],
   "source": [
    "df2.head()"
   ]
  },
  {
   "cell_type": "code",
   "execution_count": 44,
   "metadata": {},
   "outputs": [
    {
     "data": {
      "text/plain": [
       "Survived      1.000000\n",
       "Sex           0.543351\n",
       "Pclass        0.338481\n",
       "Fare          0.292884\n",
       "Cabin         0.279477\n",
       "Embarked      0.106811\n",
       "Age           0.091652\n",
       "Senior        0.028398\n",
       "FamilySize    0.016639\n",
       "Name: Survived, dtype: float64"
      ]
     },
     "execution_count": 44,
     "metadata": {},
     "output_type": "execute_result"
    }
   ],
   "source": [
    "abs(df.corr()['Survived']).sort_values(ascending=False) "
   ]
  },
  {
   "cell_type": "markdown",
   "metadata": {},
   "source": [
    "# PyCaret"
   ]
  },
  {
   "cell_type": "code",
   "execution_count": 45,
   "metadata": {},
   "outputs": [],
   "source": [
    "#from pycaret.classification import *"
   ]
  },
  {
   "cell_type": "code",
   "execution_count": 46,
   "metadata": {},
   "outputs": [],
   "source": [
    "#clf =setup(data=df, target = 'Survived', session_id=1229, normalize=True)"
   ]
  },
  {
   "cell_type": "code",
   "execution_count": 47,
   "metadata": {},
   "outputs": [],
   "source": [
    "#compare_models(sort='AUC')"
   ]
  },
  {
   "cell_type": "code",
   "execution_count": 48,
   "metadata": {},
   "outputs": [],
   "source": [
    "#lr=create_model('lr', fold=10)"
   ]
  },
  {
   "cell_type": "markdown",
   "metadata": {},
   "source": [
    "# Splitting the Data"
   ]
  },
  {
   "cell_type": "code",
   "execution_count": 49,
   "metadata": {},
   "outputs": [],
   "source": [
    "from sklearn.linear_model import LinearRegression #SKLEARN = Science Kit Learn\n",
    "from sklearn.model_selection import train_test_split"
   ]
  },
  {
   "cell_type": "code",
   "execution_count": 50,
   "metadata": {},
   "outputs": [
    {
     "name": "stdout",
     "output_type": "stream",
     "text": [
      "<class 'pandas.core.frame.DataFrame'>\n",
      "RangeIndex: 891 entries, 0 to 890\n",
      "Data columns (total 9 columns):\n",
      " #   Column      Non-Null Count  Dtype  \n",
      "---  ------      --------------  -----  \n",
      " 0   Pclass      891 non-null    int64  \n",
      " 1   Sex         891 non-null    int64  \n",
      " 2   Age         891 non-null    int64  \n",
      " 3   Fare        891 non-null    float64\n",
      " 4   Cabin       891 non-null    float64\n",
      " 5   Embarked    891 non-null    int64  \n",
      " 6   Title       891 non-null    object \n",
      " 7   Senior      891 non-null    int64  \n",
      " 8   FamilySize  891 non-null    float64\n",
      "dtypes: float64(3), int64(5), object(1)\n",
      "memory usage: 62.8+ KB\n"
     ]
    }
   ],
   "source": [
    "X = df[['Pclass', 'Sex', 'Age', 'Fare','Cabin', 'Embarked', 'Title', 'Senior', 'FamilySize']]\n",
    "X.info()"
   ]
  },
  {
   "cell_type": "code",
   "execution_count": 51,
   "metadata": {},
   "outputs": [],
   "source": [
    "y = df['Survived']"
   ]
  },
  {
   "cell_type": "code",
   "execution_count": 52,
   "metadata": {},
   "outputs": [
    {
     "data": {
      "text/plain": [
       "0"
      ]
     },
     "execution_count": 52,
     "metadata": {},
     "output_type": "execute_result"
    }
   ],
   "source": [
    "y.isnull().sum()"
   ]
  },
  {
   "cell_type": "code",
   "execution_count": 53,
   "metadata": {},
   "outputs": [],
   "source": [
    "X = pd.get_dummies(X,drop_first=True)"
   ]
  },
  {
   "cell_type": "code",
   "execution_count": 54,
   "metadata": {},
   "outputs": [
    {
     "data": {
      "text/html": [
       "<div>\n",
       "<style scoped>\n",
       "    .dataframe tbody tr th:only-of-type {\n",
       "        vertical-align: middle;\n",
       "    }\n",
       "\n",
       "    .dataframe tbody tr th {\n",
       "        vertical-align: top;\n",
       "    }\n",
       "\n",
       "    .dataframe thead th {\n",
       "        text-align: right;\n",
       "    }\n",
       "</style>\n",
       "<table border=\"1\" class=\"dataframe\">\n",
       "  <thead>\n",
       "    <tr style=\"text-align: right;\">\n",
       "      <th></th>\n",
       "      <th>Pclass</th>\n",
       "      <th>Sex</th>\n",
       "      <th>Age</th>\n",
       "      <th>Fare</th>\n",
       "      <th>Cabin</th>\n",
       "      <th>Embarked</th>\n",
       "      <th>Senior</th>\n",
       "      <th>FamilySize</th>\n",
       "      <th>Title_1.0</th>\n",
       "      <th>Title_2.0</th>\n",
       "      <th>Title_</th>\n",
       "    </tr>\n",
       "  </thead>\n",
       "  <tbody>\n",
       "    <tr>\n",
       "      <th>0</th>\n",
       "      <td>3</td>\n",
       "      <td>0</td>\n",
       "      <td>1</td>\n",
       "      <td>0.0</td>\n",
       "      <td>2.0</td>\n",
       "      <td>0</td>\n",
       "      <td>0</td>\n",
       "      <td>0.4</td>\n",
       "      <td>0</td>\n",
       "      <td>0</td>\n",
       "      <td>0</td>\n",
       "    </tr>\n",
       "    <tr>\n",
       "      <th>1</th>\n",
       "      <td>1</td>\n",
       "      <td>1</td>\n",
       "      <td>3</td>\n",
       "      <td>2.0</td>\n",
       "      <td>0.8</td>\n",
       "      <td>1</td>\n",
       "      <td>0</td>\n",
       "      <td>0.4</td>\n",
       "      <td>1</td>\n",
       "      <td>0</td>\n",
       "      <td>0</td>\n",
       "    </tr>\n",
       "    <tr>\n",
       "      <th>2</th>\n",
       "      <td>3</td>\n",
       "      <td>1</td>\n",
       "      <td>1</td>\n",
       "      <td>0.0</td>\n",
       "      <td>2.0</td>\n",
       "      <td>0</td>\n",
       "      <td>0</td>\n",
       "      <td>0.0</td>\n",
       "      <td>0</td>\n",
       "      <td>1</td>\n",
       "      <td>0</td>\n",
       "    </tr>\n",
       "    <tr>\n",
       "      <th>3</th>\n",
       "      <td>1</td>\n",
       "      <td>1</td>\n",
       "      <td>2</td>\n",
       "      <td>2.0</td>\n",
       "      <td>0.8</td>\n",
       "      <td>0</td>\n",
       "      <td>0</td>\n",
       "      <td>0.4</td>\n",
       "      <td>1</td>\n",
       "      <td>0</td>\n",
       "      <td>0</td>\n",
       "    </tr>\n",
       "    <tr>\n",
       "      <th>4</th>\n",
       "      <td>3</td>\n",
       "      <td>0</td>\n",
       "      <td>2</td>\n",
       "      <td>0.0</td>\n",
       "      <td>2.0</td>\n",
       "      <td>0</td>\n",
       "      <td>0</td>\n",
       "      <td>0.0</td>\n",
       "      <td>0</td>\n",
       "      <td>0</td>\n",
       "      <td>0</td>\n",
       "    </tr>\n",
       "    <tr>\n",
       "      <th>...</th>\n",
       "      <td>...</td>\n",
       "      <td>...</td>\n",
       "      <td>...</td>\n",
       "      <td>...</td>\n",
       "      <td>...</td>\n",
       "      <td>...</td>\n",
       "      <td>...</td>\n",
       "      <td>...</td>\n",
       "      <td>...</td>\n",
       "      <td>...</td>\n",
       "      <td>...</td>\n",
       "    </tr>\n",
       "    <tr>\n",
       "      <th>886</th>\n",
       "      <td>2</td>\n",
       "      <td>0</td>\n",
       "      <td>2</td>\n",
       "      <td>0.0</td>\n",
       "      <td>1.8</td>\n",
       "      <td>0</td>\n",
       "      <td>0</td>\n",
       "      <td>0.0</td>\n",
       "      <td>0</td>\n",
       "      <td>0</td>\n",
       "      <td>0</td>\n",
       "    </tr>\n",
       "    <tr>\n",
       "      <th>887</th>\n",
       "      <td>1</td>\n",
       "      <td>1</td>\n",
       "      <td>1</td>\n",
       "      <td>1.0</td>\n",
       "      <td>0.4</td>\n",
       "      <td>0</td>\n",
       "      <td>0</td>\n",
       "      <td>0.0</td>\n",
       "      <td>0</td>\n",
       "      <td>1</td>\n",
       "      <td>0</td>\n",
       "    </tr>\n",
       "    <tr>\n",
       "      <th>888</th>\n",
       "      <td>3</td>\n",
       "      <td>1</td>\n",
       "      <td>1</td>\n",
       "      <td>1.0</td>\n",
       "      <td>2.0</td>\n",
       "      <td>0</td>\n",
       "      <td>0</td>\n",
       "      <td>1.2</td>\n",
       "      <td>0</td>\n",
       "      <td>1</td>\n",
       "      <td>0</td>\n",
       "    </tr>\n",
       "    <tr>\n",
       "      <th>889</th>\n",
       "      <td>1</td>\n",
       "      <td>0</td>\n",
       "      <td>1</td>\n",
       "      <td>1.0</td>\n",
       "      <td>0.8</td>\n",
       "      <td>1</td>\n",
       "      <td>0</td>\n",
       "      <td>0.0</td>\n",
       "      <td>0</td>\n",
       "      <td>0</td>\n",
       "      <td>0</td>\n",
       "    </tr>\n",
       "    <tr>\n",
       "      <th>890</th>\n",
       "      <td>3</td>\n",
       "      <td>0</td>\n",
       "      <td>2</td>\n",
       "      <td>0.0</td>\n",
       "      <td>2.0</td>\n",
       "      <td>2</td>\n",
       "      <td>0</td>\n",
       "      <td>0.0</td>\n",
       "      <td>0</td>\n",
       "      <td>0</td>\n",
       "      <td>0</td>\n",
       "    </tr>\n",
       "  </tbody>\n",
       "</table>\n",
       "<p>891 rows × 11 columns</p>\n",
       "</div>"
      ],
      "text/plain": [
       "     Pclass  Sex  Age  Fare  Cabin  Embarked  Senior  FamilySize  Title_1.0  \\\n",
       "0         3    0    1   0.0    2.0         0       0         0.4          0   \n",
       "1         1    1    3   2.0    0.8         1       0         0.4          1   \n",
       "2         3    1    1   0.0    2.0         0       0         0.0          0   \n",
       "3         1    1    2   2.0    0.8         0       0         0.4          1   \n",
       "4         3    0    2   0.0    2.0         0       0         0.0          0   \n",
       "..      ...  ...  ...   ...    ...       ...     ...         ...        ...   \n",
       "886       2    0    2   0.0    1.8         0       0         0.0          0   \n",
       "887       1    1    1   1.0    0.4         0       0         0.0          0   \n",
       "888       3    1    1   1.0    2.0         0       0         1.2          0   \n",
       "889       1    0    1   1.0    0.8         1       0         0.0          0   \n",
       "890       3    0    2   0.0    2.0         2       0         0.0          0   \n",
       "\n",
       "     Title_2.0  Title_  \n",
       "0            0       0  \n",
       "1            0       0  \n",
       "2            1       0  \n",
       "3            0       0  \n",
       "4            0       0  \n",
       "..         ...     ...  \n",
       "886          0       0  \n",
       "887          1       0  \n",
       "888          1       0  \n",
       "889          0       0  \n",
       "890          0       0  \n",
       "\n",
       "[891 rows x 11 columns]"
      ]
     },
     "execution_count": 54,
     "metadata": {},
     "output_type": "execute_result"
    }
   ],
   "source": [
    "X"
   ]
  },
  {
   "cell_type": "code",
   "execution_count": 55,
   "metadata": {},
   "outputs": [],
   "source": [
    "X_train, X_test, y_train, y_test=train_test_split(X,y,test_size=0.2,random_state=13)"
   ]
  },
  {
   "cell_type": "code",
   "execution_count": 56,
   "metadata": {},
   "outputs": [
    {
     "name": "stdout",
     "output_type": "stream",
     "text": [
      "<class 'pandas.core.frame.DataFrame'>\n",
      "Int64Index: 712 entries, 711 to 338\n",
      "Data columns (total 11 columns):\n",
      " #   Column      Non-Null Count  Dtype  \n",
      "---  ------      --------------  -----  \n",
      " 0   Pclass      712 non-null    int64  \n",
      " 1   Sex         712 non-null    int64  \n",
      " 2   Age         712 non-null    int64  \n",
      " 3   Fare        712 non-null    float64\n",
      " 4   Cabin       712 non-null    float64\n",
      " 5   Embarked    712 non-null    int64  \n",
      " 6   Senior      712 non-null    int64  \n",
      " 7   FamilySize  712 non-null    float64\n",
      " 8   Title_1.0   712 non-null    uint8  \n",
      " 9   Title_2.0   712 non-null    uint8  \n",
      " 10  Title_      712 non-null    uint8  \n",
      "dtypes: float64(3), int64(5), uint8(3)\n",
      "memory usage: 52.1 KB\n"
     ]
    }
   ],
   "source": [
    "X_train.info()"
   ]
  },
  {
   "cell_type": "markdown",
   "metadata": {},
   "source": [
    "# Modelling ( Traditional Machine Learning )"
   ]
  },
  {
   "cell_type": "code",
   "execution_count": 57,
   "metadata": {},
   "outputs": [],
   "source": [
    "from sklearn.metrics import accuracy_score, precision_score, recall_score, f1_score\n",
    "from sklearn.metrics import confusion_matrix, classification_report\n",
    "from sklearn.ensemble import GradientBoostingClassifier\n",
    "gbc = GradientBoostingClassifier()\n",
    "from sklearn.ensemble import RandomForestClassifier\n",
    "r= RandomForestClassifier()\n",
    "from sklearn.tree import DecisionTreeClassifier\n",
    "d= DecisionTreeClassifier()\n",
    "from sklearn.linear_model import LogisticRegression\n",
    "log = LogisticRegression()\n",
    "from sklearn.neighbors import KNeighborsClassifier\n",
    "k = KNeighborsClassifier()\n",
    "from sklearn.naive_bayes import GaussianNB\n",
    "from sklearn.naive_bayes import BernoulliNB\n",
    "\n",
    "g = GaussianNB()\n",
    "b = BernoulliNB()\n"
   ]
  },
  {
   "cell_type": "code",
   "execution_count": 58,
   "metadata": {},
   "outputs": [],
   "source": [
    "algorithms = [g,b,k,log,gbc,r,d]\n",
    "names = ['GaussianNB','BernoulliNB', 'K Nearest', 'Logistic','GradientBoosting','RandomForest','DecisionTree',]"
   ]
  },
  {
   "cell_type": "code",
   "execution_count": 59,
   "metadata": {},
   "outputs": [],
   "source": [
    "algorithms = [g,b,k,log,gbc,r,d]\n",
    "names = ['GaussianNB','BernoulliNB', 'K Nearest', 'Logistic','GradientBoosting','RandomForest','DecisionTree',]\n",
    "def algo_test(A, b, algorithms = algorithms,names = names):\n",
    "    # fit the data\n",
    "    for i in range(len(algorithms)):\n",
    "        algorithms[i] = algorithms[i].fit(A, b)\n",
    "    \n",
    "    accuracy = []\n",
    "    precision = []\n",
    "    recall = []\n",
    "    f1 = []\n",
    "    for i in range(len(algorithms)):\n",
    "        accuracy.append(accuracy_score(y, algorithms[i].predict(X)))\n",
    "        precision.append(precision_score(y, algorithms[i].predict(X)))\n",
    "        recall.append(recall_score(y,algorithms[i].predict(X)))\n",
    "        f1.append(f1_score(y, algorithms[i].predict(X)))\n",
    "    metrics = pd.DataFrame(columns = ['Accuracy', 'Precision', 'Recall', 'F1'], index = names)\n",
    "    metrics['Accuracy'] = accuracy\n",
    "    metrics['Precision'] = precision\n",
    "    metrics['Recall'] = recall\n",
    "    metrics['F1'] = f1\n",
    "    return metrics.sort_values('F1', ascending = False)"
   ]
  },
  {
   "cell_type": "code",
   "execution_count": 60,
   "metadata": {},
   "outputs": [
    {
     "data": {
      "text/plain": [
       "(179, 11)"
      ]
     },
     "execution_count": 60,
     "metadata": {},
     "output_type": "execute_result"
    }
   ],
   "source": [
    "X_test.shape"
   ]
  },
  {
   "cell_type": "code",
   "execution_count": 61,
   "metadata": {},
   "outputs": [
    {
     "data": {
      "text/html": [
       "<div>\n",
       "<style scoped>\n",
       "    .dataframe tbody tr th:only-of-type {\n",
       "        vertical-align: middle;\n",
       "    }\n",
       "\n",
       "    .dataframe tbody tr th {\n",
       "        vertical-align: top;\n",
       "    }\n",
       "\n",
       "    .dataframe thead th {\n",
       "        text-align: right;\n",
       "    }\n",
       "</style>\n",
       "<table border=\"1\" class=\"dataframe\">\n",
       "  <thead>\n",
       "    <tr style=\"text-align: right;\">\n",
       "      <th></th>\n",
       "      <th>Accuracy</th>\n",
       "      <th>Precision</th>\n",
       "      <th>Recall</th>\n",
       "      <th>F1</th>\n",
       "    </tr>\n",
       "  </thead>\n",
       "  <tbody>\n",
       "    <tr>\n",
       "      <th>Logistic</th>\n",
       "      <td>0.810325</td>\n",
       "      <td>0.771160</td>\n",
       "      <td>0.719298</td>\n",
       "      <td>0.744327</td>\n",
       "    </tr>\n",
       "    <tr>\n",
       "      <th>RandomForest</th>\n",
       "      <td>0.817059</td>\n",
       "      <td>0.823105</td>\n",
       "      <td>0.666667</td>\n",
       "      <td>0.736672</td>\n",
       "    </tr>\n",
       "    <tr>\n",
       "      <th>DecisionTree</th>\n",
       "      <td>0.810325</td>\n",
       "      <td>0.814545</td>\n",
       "      <td>0.654971</td>\n",
       "      <td>0.726094</td>\n",
       "    </tr>\n",
       "    <tr>\n",
       "      <th>GradientBoosting</th>\n",
       "      <td>0.805836</td>\n",
       "      <td>0.798587</td>\n",
       "      <td>0.660819</td>\n",
       "      <td>0.723200</td>\n",
       "    </tr>\n",
       "    <tr>\n",
       "      <th>GaussianNB</th>\n",
       "      <td>0.756453</td>\n",
       "      <td>0.651332</td>\n",
       "      <td>0.786550</td>\n",
       "      <td>0.712583</td>\n",
       "    </tr>\n",
       "    <tr>\n",
       "      <th>BernoulliNB</th>\n",
       "      <td>0.784512</td>\n",
       "      <td>0.734375</td>\n",
       "      <td>0.687135</td>\n",
       "      <td>0.709970</td>\n",
       "    </tr>\n",
       "    <tr>\n",
       "      <th>K Nearest</th>\n",
       "      <td>0.787879</td>\n",
       "      <td>0.807229</td>\n",
       "      <td>0.587719</td>\n",
       "      <td>0.680203</td>\n",
       "    </tr>\n",
       "  </tbody>\n",
       "</table>\n",
       "</div>"
      ],
      "text/plain": [
       "                  Accuracy  Precision    Recall        F1\n",
       "Logistic          0.810325   0.771160  0.719298  0.744327\n",
       "RandomForest      0.817059   0.823105  0.666667  0.736672\n",
       "DecisionTree      0.810325   0.814545  0.654971  0.726094\n",
       "GradientBoosting  0.805836   0.798587  0.660819  0.723200\n",
       "GaussianNB        0.756453   0.651332  0.786550  0.712583\n",
       "BernoulliNB       0.784512   0.734375  0.687135  0.709970\n",
       "K Nearest         0.787879   0.807229  0.587719  0.680203"
      ]
     },
     "execution_count": 61,
     "metadata": {},
     "output_type": "execute_result"
    }
   ],
   "source": [
    "algo_test(X_test, y_test)"
   ]
  },
  {
   "cell_type": "code",
   "execution_count": 62,
   "metadata": {},
   "outputs": [],
   "source": [
    "df2 = pd.get_dummies(df2,drop_first=True)"
   ]
  },
  {
   "cell_type": "code",
   "execution_count": 63,
   "metadata": {},
   "outputs": [
    {
     "name": "stdout",
     "output_type": "stream",
     "text": [
      "<class 'pandas.core.frame.DataFrame'>\n",
      "RangeIndex: 418 entries, 0 to 417\n",
      "Data columns (total 11 columns):\n",
      " #   Column      Non-Null Count  Dtype  \n",
      "---  ------      --------------  -----  \n",
      " 0   Pclass      418 non-null    int64  \n",
      " 1   Sex         418 non-null    int64  \n",
      " 2   Age         418 non-null    int64  \n",
      " 3   Fare        418 non-null    float64\n",
      " 4   Cabin       418 non-null    float64\n",
      " 5   Embarked    418 non-null    int64  \n",
      " 6   Senior      418 non-null    int64  \n",
      " 7   FamilySize  418 non-null    float64\n",
      " 8   Title_1.0   418 non-null    uint8  \n",
      " 9   Title_2.0   418 non-null    uint8  \n",
      " 10  Title_      418 non-null    uint8  \n",
      "dtypes: float64(3), int64(5), uint8(3)\n",
      "memory usage: 27.5 KB\n"
     ]
    }
   ],
   "source": [
    "df2.info()"
   ]
  },
  {
   "cell_type": "code",
   "execution_count": 64,
   "metadata": {},
   "outputs": [],
   "source": [
    "predicting = log.predict(df2)"
   ]
  },
  {
   "cell_type": "code",
   "execution_count": 66,
   "metadata": {},
   "outputs": [
    {
     "data": {
      "text/plain": [
       "array([0, 1, 0, 0, 0, 0, 0, 0, 1, 0, 0, 1, 1, 0, 1, 1, 0, 0, 1, 1, 0, 0,\n",
       "       1, 1, 1, 0, 1, 0, 1, 0, 0, 1, 0, 0, 0, 0, 0, 1, 0, 0, 0, 1, 0, 1,\n",
       "       1, 0, 0, 0, 1, 1, 1, 0, 1, 1, 0, 0, 0, 0, 0, 1, 0, 0, 0, 1, 0, 1,\n",
       "       1, 0, 1, 1, 0, 0, 0, 0, 1, 0, 0, 1, 0, 1, 0, 0, 1, 0, 0, 0, 0, 1,\n",
       "       0, 0, 0, 0, 1, 0, 1, 0, 1, 0, 1, 0, 1, 0, 0, 0, 0, 0, 0, 0, 0, 0,\n",
       "       0, 0, 1, 1, 1, 0, 0, 0, 0, 1, 1, 0, 1, 0, 0, 1, 0, 0, 0, 0, 0, 0,\n",
       "       0, 0, 0, 0, 0, 0, 1, 0, 1, 1, 0, 0, 0, 0, 0, 0, 1, 0, 1, 0, 0, 0,\n",
       "       0, 0, 1, 1, 0, 1, 0, 0, 1, 0, 0, 1, 1, 0, 1, 1, 0, 0, 0, 0, 0, 1,\n",
       "       1, 0, 0, 1, 0, 0, 1, 0, 1, 0, 1, 0, 0, 0, 0, 1, 0, 0, 1, 0, 1, 1,\n",
       "       0, 1, 0, 0, 0, 1, 0, 1, 0, 0, 1, 0, 0, 0, 0, 0, 0, 1, 0, 0, 1, 0,\n",
       "       1, 0, 1, 0, 1, 0, 0, 0, 0, 0, 1, 1, 0, 0, 0, 0, 0, 0, 1, 1, 1, 1,\n",
       "       0, 0, 0, 0, 1, 0, 1, 0, 1, 0, 0, 0, 0, 0, 0, 0, 1, 0, 0, 0, 1, 1,\n",
       "       0, 0, 1, 0, 1, 0, 0, 0, 1, 0, 0, 1, 0, 0, 0, 1, 1, 0, 0, 0, 1, 0,\n",
       "       0, 1, 0, 0, 1, 1, 0, 0, 0, 0, 1, 0, 1, 0, 0, 0, 0, 0, 0, 1, 0, 0,\n",
       "       0, 0, 0, 0, 0, 0, 1, 1, 1, 0, 0, 1, 0, 0, 0, 1, 1, 0, 1, 1, 0, 0,\n",
       "       1, 0, 0, 0, 0, 1, 0, 0, 0, 0, 1, 0, 0, 1, 0, 1, 0, 1, 1, 1, 1, 0,\n",
       "       0, 0, 0, 0, 1, 0, 0, 0, 0, 1, 1, 0, 1, 0, 0, 1, 1, 0, 0, 1, 0, 0,\n",
       "       1, 1, 1, 0, 0, 0, 0, 0, 0, 1, 0, 1, 0, 0, 0, 0, 1, 1, 0, 0, 0, 1,\n",
       "       0, 1, 0, 0, 1, 0, 1, 1, 0, 0, 0, 0, 0, 1, 0, 1, 1, 0, 1, 0, 0, 0],\n",
       "      dtype=int64)"
      ]
     },
     "execution_count": 66,
     "metadata": {},
     "output_type": "execute_result"
    }
   ],
   "source": [
    "predicting ## predicting survived column in ttest.csv data "
   ]
  },
  {
   "cell_type": "code",
   "execution_count": 67,
   "metadata": {},
   "outputs": [
    {
     "data": {
      "text/html": [
       "<div>\n",
       "<style scoped>\n",
       "    .dataframe tbody tr th:only-of-type {\n",
       "        vertical-align: middle;\n",
       "    }\n",
       "\n",
       "    .dataframe tbody tr th {\n",
       "        vertical-align: top;\n",
       "    }\n",
       "\n",
       "    .dataframe thead th {\n",
       "        text-align: right;\n",
       "    }\n",
       "</style>\n",
       "<table border=\"1\" class=\"dataframe\">\n",
       "  <thead>\n",
       "    <tr style=\"text-align: right;\">\n",
       "      <th></th>\n",
       "      <th>Pclass</th>\n",
       "      <th>Sex</th>\n",
       "      <th>Age</th>\n",
       "      <th>Fare</th>\n",
       "      <th>Cabin</th>\n",
       "      <th>Embarked</th>\n",
       "      <th>Senior</th>\n",
       "      <th>FamilySize</th>\n",
       "      <th>Title_1.0</th>\n",
       "      <th>Title_2.0</th>\n",
       "      <th>Title_</th>\n",
       "    </tr>\n",
       "  </thead>\n",
       "  <tbody>\n",
       "    <tr>\n",
       "      <th>0</th>\n",
       "      <td>3</td>\n",
       "      <td>0</td>\n",
       "      <td>2</td>\n",
       "      <td>0.0</td>\n",
       "      <td>2.0</td>\n",
       "      <td>2</td>\n",
       "      <td>0</td>\n",
       "      <td>0.0</td>\n",
       "      <td>0</td>\n",
       "      <td>0</td>\n",
       "      <td>0</td>\n",
       "    </tr>\n",
       "    <tr>\n",
       "      <th>1</th>\n",
       "      <td>3</td>\n",
       "      <td>1</td>\n",
       "      <td>3</td>\n",
       "      <td>0.0</td>\n",
       "      <td>2.0</td>\n",
       "      <td>0</td>\n",
       "      <td>0</td>\n",
       "      <td>0.4</td>\n",
       "      <td>1</td>\n",
       "      <td>0</td>\n",
       "      <td>0</td>\n",
       "    </tr>\n",
       "    <tr>\n",
       "      <th>2</th>\n",
       "      <td>2</td>\n",
       "      <td>0</td>\n",
       "      <td>3</td>\n",
       "      <td>0.0</td>\n",
       "      <td>2.0</td>\n",
       "      <td>2</td>\n",
       "      <td>0</td>\n",
       "      <td>0.0</td>\n",
       "      <td>0</td>\n",
       "      <td>1</td>\n",
       "      <td>0</td>\n",
       "    </tr>\n",
       "    <tr>\n",
       "      <th>3</th>\n",
       "      <td>3</td>\n",
       "      <td>0</td>\n",
       "      <td>2</td>\n",
       "      <td>0.0</td>\n",
       "      <td>2.0</td>\n",
       "      <td>0</td>\n",
       "      <td>0</td>\n",
       "      <td>0.0</td>\n",
       "      <td>1</td>\n",
       "      <td>0</td>\n",
       "      <td>0</td>\n",
       "    </tr>\n",
       "    <tr>\n",
       "      <th>4</th>\n",
       "      <td>3</td>\n",
       "      <td>1</td>\n",
       "      <td>1</td>\n",
       "      <td>0.0</td>\n",
       "      <td>2.0</td>\n",
       "      <td>0</td>\n",
       "      <td>0</td>\n",
       "      <td>0.8</td>\n",
       "      <td>0</td>\n",
       "      <td>0</td>\n",
       "      <td>0</td>\n",
       "    </tr>\n",
       "    <tr>\n",
       "      <th>...</th>\n",
       "      <td>...</td>\n",
       "      <td>...</td>\n",
       "      <td>...</td>\n",
       "      <td>...</td>\n",
       "      <td>...</td>\n",
       "      <td>...</td>\n",
       "      <td>...</td>\n",
       "      <td>...</td>\n",
       "      <td>...</td>\n",
       "      <td>...</td>\n",
       "      <td>...</td>\n",
       "    </tr>\n",
       "    <tr>\n",
       "      <th>413</th>\n",
       "      <td>3</td>\n",
       "      <td>0</td>\n",
       "      <td>2</td>\n",
       "      <td>0.0</td>\n",
       "      <td>2.0</td>\n",
       "      <td>0</td>\n",
       "      <td>0</td>\n",
       "      <td>0.0</td>\n",
       "      <td>0</td>\n",
       "      <td>0</td>\n",
       "      <td>0</td>\n",
       "    </tr>\n",
       "    <tr>\n",
       "      <th>414</th>\n",
       "      <td>1</td>\n",
       "      <td>1</td>\n",
       "      <td>3</td>\n",
       "      <td>3.0</td>\n",
       "      <td>0.8</td>\n",
       "      <td>1</td>\n",
       "      <td>0</td>\n",
       "      <td>0.0</td>\n",
       "      <td>0</td>\n",
       "      <td>0</td>\n",
       "      <td>0</td>\n",
       "    </tr>\n",
       "    <tr>\n",
       "      <th>415</th>\n",
       "      <td>3</td>\n",
       "      <td>0</td>\n",
       "      <td>3</td>\n",
       "      <td>0.0</td>\n",
       "      <td>2.0</td>\n",
       "      <td>0</td>\n",
       "      <td>0</td>\n",
       "      <td>0.0</td>\n",
       "      <td>1</td>\n",
       "      <td>0</td>\n",
       "      <td>0</td>\n",
       "    </tr>\n",
       "    <tr>\n",
       "      <th>416</th>\n",
       "      <td>3</td>\n",
       "      <td>0</td>\n",
       "      <td>2</td>\n",
       "      <td>0.0</td>\n",
       "      <td>2.0</td>\n",
       "      <td>0</td>\n",
       "      <td>0</td>\n",
       "      <td>0.0</td>\n",
       "      <td>1</td>\n",
       "      <td>0</td>\n",
       "      <td>0</td>\n",
       "    </tr>\n",
       "    <tr>\n",
       "      <th>417</th>\n",
       "      <td>3</td>\n",
       "      <td>0</td>\n",
       "      <td>2</td>\n",
       "      <td>1.0</td>\n",
       "      <td>2.0</td>\n",
       "      <td>1</td>\n",
       "      <td>0</td>\n",
       "      <td>0.8</td>\n",
       "      <td>0</td>\n",
       "      <td>1</td>\n",
       "      <td>0</td>\n",
       "    </tr>\n",
       "  </tbody>\n",
       "</table>\n",
       "<p>418 rows × 11 columns</p>\n",
       "</div>"
      ],
      "text/plain": [
       "     Pclass  Sex  Age  Fare  Cabin  Embarked  Senior  FamilySize  Title_1.0  \\\n",
       "0         3    0    2   0.0    2.0         2       0         0.0          0   \n",
       "1         3    1    3   0.0    2.0         0       0         0.4          1   \n",
       "2         2    0    3   0.0    2.0         2       0         0.0          0   \n",
       "3         3    0    2   0.0    2.0         0       0         0.0          1   \n",
       "4         3    1    1   0.0    2.0         0       0         0.8          0   \n",
       "..      ...  ...  ...   ...    ...       ...     ...         ...        ...   \n",
       "413       3    0    2   0.0    2.0         0       0         0.0          0   \n",
       "414       1    1    3   3.0    0.8         1       0         0.0          0   \n",
       "415       3    0    3   0.0    2.0         0       0         0.0          1   \n",
       "416       3    0    2   0.0    2.0         0       0         0.0          1   \n",
       "417       3    0    2   1.0    2.0         1       0         0.8          0   \n",
       "\n",
       "     Title_2.0  Title_  \n",
       "0            0       0  \n",
       "1            0       0  \n",
       "2            1       0  \n",
       "3            0       0  \n",
       "4            0       0  \n",
       "..         ...     ...  \n",
       "413          0       0  \n",
       "414          0       0  \n",
       "415          0       0  \n",
       "416          0       0  \n",
       "417          1       0  \n",
       "\n",
       "[418 rows x 11 columns]"
      ]
     },
     "execution_count": 67,
     "metadata": {},
     "output_type": "execute_result"
    }
   ],
   "source": [
    "df2"
   ]
  },
  {
   "cell_type": "code",
   "execution_count": 68,
   "metadata": {},
   "outputs": [],
   "source": [
    "df2_new = pd.read_csv('ttest.csv') # I reread the ttest.csv file in the because I need index number of ttest.csv"
   ]
  },
  {
   "cell_type": "code",
   "execution_count": 69,
   "metadata": {},
   "outputs": [],
   "source": [
    "result = df2_new[['PassengerId']] # And ı secl"
   ]
  },
  {
   "cell_type": "code",
   "execution_count": 70,
   "metadata": {},
   "outputs": [],
   "source": [
    "result['Survived'] = predicting"
   ]
  },
  {
   "cell_type": "code",
   "execution_count": 71,
   "metadata": {},
   "outputs": [
    {
     "data": {
      "text/plain": [
       "0    275\n",
       "1    143\n",
       "Name: Survived, dtype: int64"
      ]
     },
     "execution_count": 71,
     "metadata": {},
     "output_type": "execute_result"
    }
   ],
   "source": [
    "result['Survived'].value_counts()"
   ]
  },
  {
   "cell_type": "markdown",
   "metadata": {},
   "source": [
    "**If you want to check what is your predicting result's score you can go kaggle and upload that csv file**"
   ]
  },
  {
   "cell_type": "code",
   "execution_count": 80,
   "metadata": {},
   "outputs": [],
   "source": [
    "result.to_csv('sonuc3.csv', index = False)"
   ]
  },
  {
   "cell_type": "markdown",
   "metadata": {},
   "source": [
    "# Modelling (Tensorflow-Keras)"
   ]
  },
  {
   "cell_type": "code",
   "execution_count": 73,
   "metadata": {},
   "outputs": [],
   "source": [
    "import pandas as pd\n",
    "from tensorflow.keras.models import Sequential\n",
    "from tensorflow.keras.layers import Dense"
   ]
  },
  {
   "cell_type": "code",
   "execution_count": 86,
   "metadata": {},
   "outputs": [],
   "source": [
    "model=Sequential()\n",
    "model.add(Dense(12, activation='relu'))\n",
    "model.add(Dense(8, activation='relu'))\n",
    "model.add(Dense(8, activation='relu'))\n",
    "model.add(Dense(8, activation='relu'))\n",
    "model.add(Dense(4, activation='relu'))\n",
    "model.add(Dense(1, activation='sigmoid'))\n",
    "# sigmoid activation method gives us the result just 0 or 1 "
   ]
  },
  {
   "cell_type": "code",
   "execution_count": 87,
   "metadata": {},
   "outputs": [],
   "source": [
    "model.compile(loss='binary_crossentropy', optimizer='adam', metrics=['accuracy'])\n",
    "#We are using binary_crossentropy because we are doing classification\n",
    "#2den fazla seçenek varsa categorical_crossentropy\n",
    "#optimizer en az masrafla\n",
    "#accuracy, precision, recall, f1score bunlar classificationda hata payımızı bulma"
   ]
  },
  {
   "cell_type": "code",
   "execution_count": 95,
   "metadata": {},
   "outputs": [
    {
     "name": "stdout",
     "output_type": "stream",
     "text": [
      "Epoch 1/150\n",
      "90/90 [==============================] - 0s 837us/step - loss: 0.3505 - accuracy: 0.8552\n",
      "Epoch 2/150\n",
      "90/90 [==============================] - 0s 768us/step - loss: 0.3545 - accuracy: 0.8530\n",
      "Epoch 3/150\n",
      "90/90 [==============================] - 0s 770us/step - loss: 0.3537 - accuracy: 0.8530\n",
      "Epoch 4/150\n",
      "90/90 [==============================] - 0s 676us/step - loss: 0.3501 - accuracy: 0.8485\n",
      "Epoch 5/150\n",
      "90/90 [==============================] - 0s 693us/step - loss: 0.3496 - accuracy: 0.8519\n",
      "Epoch 6/150\n",
      "90/90 [==============================] - 0s 704us/step - loss: 0.3590 - accuracy: 0.8440\n",
      "Epoch 7/150\n",
      "90/90 [==============================] - 0s 715us/step - loss: 0.3513 - accuracy: 0.8496\n",
      "Epoch 8/150\n",
      "90/90 [==============================] - 0s 715us/step - loss: 0.3490 - accuracy: 0.8552\n",
      "Epoch 9/150\n",
      "90/90 [==============================] - 0s 681us/step - loss: 0.3480 - accuracy: 0.8519\n",
      "Epoch 10/150\n",
      "90/90 [==============================] - 0s 731us/step - loss: 0.3510 - accuracy: 0.8541\n",
      "Epoch 11/150\n",
      "90/90 [==============================] - 0s 684us/step - loss: 0.3497 - accuracy: 0.8541\n",
      "Epoch 12/150\n",
      "90/90 [==============================] - 0s 677us/step - loss: 0.3509 - accuracy: 0.8586\n",
      "Epoch 13/150\n",
      "90/90 [==============================] - 0s 695us/step - loss: 0.3495 - accuracy: 0.8541\n",
      "Epoch 14/150\n",
      "90/90 [==============================] - 0s 729us/step - loss: 0.3513 - accuracy: 0.8496\n",
      "Epoch 15/150\n",
      "90/90 [==============================] - 0s 705us/step - loss: 0.3449 - accuracy: 0.8608\n",
      "Epoch 16/150\n",
      "90/90 [==============================] - 0s 703us/step - loss: 0.3491 - accuracy: 0.8541\n",
      "Epoch 17/150\n",
      "90/90 [==============================] - 0s 683us/step - loss: 0.3477 - accuracy: 0.8507\n",
      "Epoch 18/150\n",
      "90/90 [==============================] - 0s 714us/step - loss: 0.3554 - accuracy: 0.8485\n",
      "Epoch 19/150\n",
      "90/90 [==============================] - 0s 773us/step - loss: 0.3509 - accuracy: 0.8519\n",
      "Epoch 20/150\n",
      "90/90 [==============================] - 0s 720us/step - loss: 0.3507 - accuracy: 0.8496\n",
      "Epoch 21/150\n",
      "90/90 [==============================] - 0s 706us/step - loss: 0.3483 - accuracy: 0.8620\n",
      "Epoch 22/150\n",
      "90/90 [==============================] - 0s 684us/step - loss: 0.3448 - accuracy: 0.8608\n",
      "Epoch 23/150\n",
      "90/90 [==============================] - 0s 773us/step - loss: 0.3583 - accuracy: 0.8462\n",
      "Epoch 24/150\n",
      "90/90 [==============================] - 0s 778us/step - loss: 0.3459 - accuracy: 0.8575\n",
      "Epoch 25/150\n",
      "90/90 [==============================] - 0s 738us/step - loss: 0.3452 - accuracy: 0.8552\n",
      "Epoch 26/150\n",
      "90/90 [==============================] - 0s 704us/step - loss: 0.3473 - accuracy: 0.8575\n",
      "Epoch 27/150\n",
      "90/90 [==============================] - 0s 728us/step - loss: 0.3483 - accuracy: 0.8552\n",
      "Epoch 28/150\n",
      "90/90 [==============================] - 0s 740us/step - loss: 0.3464 - accuracy: 0.8552\n",
      "Epoch 29/150\n",
      "90/90 [==============================] - 0s 744us/step - loss: 0.3487 - accuracy: 0.8519\n",
      "Epoch 30/150\n",
      "90/90 [==============================] - 0s 819us/step - loss: 0.3456 - accuracy: 0.8530\n",
      "Epoch 31/150\n",
      "90/90 [==============================] - 0s 727us/step - loss: 0.3435 - accuracy: 0.8507\n",
      "Epoch 32/150\n",
      "90/90 [==============================] - 0s 717us/step - loss: 0.3439 - accuracy: 0.8597\n",
      "Epoch 33/150\n",
      "90/90 [==============================] - 0s 729us/step - loss: 0.3406 - accuracy: 0.8608\n",
      "Epoch 34/150\n",
      "90/90 [==============================] - 0s 724us/step - loss: 0.3460 - accuracy: 0.8552\n",
      "Epoch 35/150\n",
      "90/90 [==============================] - 0s 681us/step - loss: 0.3460 - accuracy: 0.8519\n",
      "Epoch 36/150\n",
      "90/90 [==============================] - 0s 710us/step - loss: 0.3412 - accuracy: 0.8552\n",
      "Epoch 37/150\n",
      "90/90 [==============================] - 0s 686us/step - loss: 0.3407 - accuracy: 0.8552\n",
      "Epoch 38/150\n",
      "90/90 [==============================] - 0s 647us/step - loss: 0.3438 - accuracy: 0.8530\n",
      "Epoch 39/150\n",
      "90/90 [==============================] - 0s 738us/step - loss: 0.3402 - accuracy: 0.8597\n",
      "Epoch 40/150\n",
      "90/90 [==============================] - 0s 697us/step - loss: 0.3400 - accuracy: 0.8519\n",
      "Epoch 41/150\n",
      "90/90 [==============================] - 0s 745us/step - loss: 0.3421 - accuracy: 0.8642\n",
      "Epoch 42/150\n",
      "90/90 [==============================] - 0s 685us/step - loss: 0.3401 - accuracy: 0.8575\n",
      "Epoch 43/150\n",
      "90/90 [==============================] - 0s 723us/step - loss: 0.3424 - accuracy: 0.8530\n",
      "Epoch 44/150\n",
      "90/90 [==============================] - 0s 693us/step - loss: 0.3441 - accuracy: 0.8507\n",
      "Epoch 45/150\n",
      "90/90 [==============================] - 0s 704us/step - loss: 0.3418 - accuracy: 0.8597\n",
      "Epoch 46/150\n",
      "90/90 [==============================] - 0s 706us/step - loss: 0.3414 - accuracy: 0.8474\n",
      "Epoch 47/150\n",
      "90/90 [==============================] - 0s 738us/step - loss: 0.3590 - accuracy: 0.8451\n",
      "Epoch 48/150\n",
      "90/90 [==============================] - 0s 714us/step - loss: 0.3479 - accuracy: 0.8608\n",
      "Epoch 49/150\n",
      "90/90 [==============================] - 0s 710us/step - loss: 0.3413 - accuracy: 0.8608\n",
      "Epoch 50/150\n",
      "90/90 [==============================] - 0s 719us/step - loss: 0.3436 - accuracy: 0.8552\n",
      "Epoch 51/150\n",
      "90/90 [==============================] - 0s 709us/step - loss: 0.3429 - accuracy: 0.8586\n",
      "Epoch 52/150\n",
      "90/90 [==============================] - 0s 723us/step - loss: 0.3388 - accuracy: 0.8642\n",
      "Epoch 53/150\n",
      "90/90 [==============================] - 0s 739us/step - loss: 0.3387 - accuracy: 0.8608\n",
      "Epoch 54/150\n",
      "90/90 [==============================] - 0s 684us/step - loss: 0.3364 - accuracy: 0.8642\n",
      "Epoch 55/150\n",
      "90/90 [==============================] - 0s 670us/step - loss: 0.3482 - accuracy: 0.8575\n",
      "Epoch 56/150\n",
      "90/90 [==============================] - 0s 647us/step - loss: 0.3392 - accuracy: 0.8631\n",
      "Epoch 57/150\n",
      "90/90 [==============================] - 0s 664us/step - loss: 0.3368 - accuracy: 0.8552\n",
      "Epoch 58/150\n",
      "90/90 [==============================] - 0s 685us/step - loss: 0.3392 - accuracy: 0.8586\n",
      "Epoch 59/150\n",
      "90/90 [==============================] - 0s 666us/step - loss: 0.3336 - accuracy: 0.8608\n",
      "Epoch 60/150\n",
      "90/90 [==============================] - 0s 646us/step - loss: 0.3352 - accuracy: 0.8664\n",
      "Epoch 61/150\n",
      "90/90 [==============================] - 0s 670us/step - loss: 0.3354 - accuracy: 0.8586\n",
      "Epoch 62/150\n",
      "90/90 [==============================] - 0s 727us/step - loss: 0.3368 - accuracy: 0.8631\n",
      "Epoch 63/150\n",
      "90/90 [==============================] - 0s 672us/step - loss: 0.3324 - accuracy: 0.8653\n",
      "Epoch 64/150\n",
      "90/90 [==============================] - 0s 639us/step - loss: 0.3392 - accuracy: 0.8575\n",
      "Epoch 65/150\n",
      "90/90 [==============================] - 0s 672us/step - loss: 0.3365 - accuracy: 0.8608\n",
      "Epoch 66/150\n",
      "90/90 [==============================] - 0s 740us/step - loss: 0.3343 - accuracy: 0.8631\n",
      "Epoch 67/150\n",
      "90/90 [==============================] - 0s 674us/step - loss: 0.3452 - accuracy: 0.8541\n",
      "Epoch 68/150\n",
      "90/90 [==============================] - 0s 656us/step - loss: 0.3329 - accuracy: 0.8653\n",
      "Epoch 69/150\n",
      "90/90 [==============================] - 0s 639us/step - loss: 0.3391 - accuracy: 0.8541\n",
      "Epoch 70/150\n",
      "90/90 [==============================] - 0s 740us/step - loss: 0.3320 - accuracy: 0.8642\n",
      "Epoch 71/150\n",
      "90/90 [==============================] - 0s 698us/step - loss: 0.3300 - accuracy: 0.8676\n",
      "Epoch 72/150\n",
      "90/90 [==============================] - 0s 639us/step - loss: 0.3313 - accuracy: 0.8642\n",
      "Epoch 73/150\n",
      "90/90 [==============================] - 0s 662us/step - loss: 0.3295 - accuracy: 0.8597\n",
      "Epoch 74/150\n",
      "90/90 [==============================] - 0s 682us/step - loss: 0.3305 - accuracy: 0.8631\n",
      "Epoch 75/150\n",
      "90/90 [==============================] - 0s 704us/step - loss: 0.3311 - accuracy: 0.8642\n",
      "Epoch 76/150\n",
      "90/90 [==============================] - 0s 839us/step - loss: 0.3296 - accuracy: 0.8653\n",
      "Epoch 77/150\n",
      "90/90 [==============================] - 0s 640us/step - loss: 0.3343 - accuracy: 0.8698\n",
      "Epoch 78/150\n",
      "90/90 [==============================] - 0s 958us/step - loss: 0.3279 - accuracy: 0.8642\n",
      "Epoch 79/150\n",
      "90/90 [==============================] - 0s 896us/step - loss: 0.3377 - accuracy: 0.8653\n",
      "Epoch 80/150\n",
      "90/90 [==============================] - 0s 908us/step - loss: 0.3337 - accuracy: 0.8676\n",
      "Epoch 81/150\n"
     ]
    },
    {
     "name": "stdout",
     "output_type": "stream",
     "text": [
      "90/90 [==============================] - 0s 919us/step - loss: 0.3298 - accuracy: 0.8653\n",
      "Epoch 82/150\n",
      "90/90 [==============================] - 0s 934us/step - loss: 0.3347 - accuracy: 0.8597\n",
      "Epoch 83/150\n",
      "90/90 [==============================] - 0s 1ms/step - loss: 0.3292 - accuracy: 0.8631\n",
      "Epoch 84/150\n",
      "90/90 [==============================] - 0s 869us/step - loss: 0.3273 - accuracy: 0.8631\n",
      "Epoch 85/150\n",
      "90/90 [==============================] - 0s 780us/step - loss: 0.3282 - accuracy: 0.8709\n",
      "Epoch 86/150\n",
      "90/90 [==============================] - 0s 827us/step - loss: 0.3301 - accuracy: 0.8676\n",
      "Epoch 87/150\n",
      "90/90 [==============================] - 0s 751us/step - loss: 0.3302 - accuracy: 0.8687\n",
      "Epoch 88/150\n",
      "90/90 [==============================] - 0s 715us/step - loss: 0.3301 - accuracy: 0.8687\n",
      "Epoch 89/150\n",
      "90/90 [==============================] - 0s 628us/step - loss: 0.3294 - accuracy: 0.8597\n",
      "Epoch 90/150\n",
      "90/90 [==============================] - 0s 704us/step - loss: 0.3306 - accuracy: 0.8653\n",
      "Epoch 91/150\n",
      "90/90 [==============================] - 0s 841us/step - loss: 0.3292 - accuracy: 0.8642\n",
      "Epoch 92/150\n",
      "90/90 [==============================] - 0s 677us/step - loss: 0.3324 - accuracy: 0.8687\n",
      "Epoch 93/150\n",
      "90/90 [==============================] - 0s 725us/step - loss: 0.3323 - accuracy: 0.8620\n",
      "Epoch 94/150\n",
      "90/90 [==============================] - 0s 886us/step - loss: 0.3292 - accuracy: 0.8709\n",
      "Epoch 95/150\n",
      "90/90 [==============================] - 0s 744us/step - loss: 0.3253 - accuracy: 0.8709\n",
      "Epoch 96/150\n",
      "90/90 [==============================] - 0s 678us/step - loss: 0.3290 - accuracy: 0.8687\n",
      "Epoch 97/150\n",
      "90/90 [==============================] - 0s 677us/step - loss: 0.3269 - accuracy: 0.8631\n",
      "Epoch 98/150\n",
      "90/90 [==============================] - 0s 647us/step - loss: 0.3258 - accuracy: 0.8721\n",
      "Epoch 99/150\n",
      "90/90 [==============================] - 0s 652us/step - loss: 0.3286 - accuracy: 0.8608\n",
      "Epoch 100/150\n",
      "90/90 [==============================] - 0s 788us/step - loss: 0.3286 - accuracy: 0.8676\n",
      "Epoch 101/150\n",
      "90/90 [==============================] - 0s 717us/step - loss: 0.3268 - accuracy: 0.8642\n",
      "Epoch 102/150\n",
      "90/90 [==============================] - 0s 661us/step - loss: 0.3266 - accuracy: 0.8642\n",
      "Epoch 103/150\n",
      "90/90 [==============================] - 0s 707us/step - loss: 0.3281 - accuracy: 0.8608\n",
      "Epoch 104/150\n",
      "90/90 [==============================] - 0s 646us/step - loss: 0.3252 - accuracy: 0.8676\n",
      "Epoch 105/150\n",
      "90/90 [==============================] - 0s 670us/step - loss: 0.3380 - accuracy: 0.8541\n",
      "Epoch 106/150\n",
      "90/90 [==============================] - 0s 672us/step - loss: 0.3258 - accuracy: 0.8653\n",
      "Epoch 107/150\n",
      "90/90 [==============================] - 0s 680us/step - loss: 0.3254 - accuracy: 0.8709\n",
      "Epoch 108/150\n",
      "90/90 [==============================] - 0s 649us/step - loss: 0.3268 - accuracy: 0.8653\n",
      "Epoch 109/150\n",
      "90/90 [==============================] - 0s 717us/step - loss: 0.3265 - accuracy: 0.8631\n",
      "Epoch 110/150\n",
      "90/90 [==============================] - 0s 670us/step - loss: 0.3224 - accuracy: 0.8721\n",
      "Epoch 111/150\n",
      "90/90 [==============================] - 0s 695us/step - loss: 0.3335 - accuracy: 0.8575\n",
      "Epoch 112/150\n",
      "90/90 [==============================] - 0s 672us/step - loss: 0.3235 - accuracy: 0.8721\n",
      "Epoch 113/150\n",
      "90/90 [==============================] - 0s 674us/step - loss: 0.3238 - accuracy: 0.8687\n",
      "Epoch 114/150\n",
      "90/90 [==============================] - 0s 744us/step - loss: 0.3231 - accuracy: 0.8709\n",
      "Epoch 115/150\n",
      "90/90 [==============================] - 0s 793us/step - loss: 0.3261 - accuracy: 0.8597\n",
      "Epoch 116/150\n",
      "90/90 [==============================] - 0s 722us/step - loss: 0.3223 - accuracy: 0.8664\n",
      "Epoch 117/150\n",
      "90/90 [==============================] - 0s 718us/step - loss: 0.3284 - accuracy: 0.8676\n",
      "Epoch 118/150\n",
      "90/90 [==============================] - 0s 761us/step - loss: 0.3524 - accuracy: 0.8496\n",
      "Epoch 119/150\n",
      "90/90 [==============================] - 0s 786us/step - loss: 0.3327 - accuracy: 0.8631\n",
      "Epoch 120/150\n",
      "90/90 [==============================] - 0s 693us/step - loss: 0.3261 - accuracy: 0.8698\n",
      "Epoch 121/150\n",
      "90/90 [==============================] - 0s 724us/step - loss: 0.3223 - accuracy: 0.8732\n",
      "Epoch 122/150\n",
      "90/90 [==============================] - 0s 694us/step - loss: 0.3225 - accuracy: 0.8687\n",
      "Epoch 123/150\n",
      "90/90 [==============================] - 0s 705us/step - loss: 0.3252 - accuracy: 0.8676\n",
      "Epoch 124/150\n",
      "90/90 [==============================] - 0s 678us/step - loss: 0.3228 - accuracy: 0.8743\n",
      "Epoch 125/150\n",
      "90/90 [==============================] - 0s 680us/step - loss: 0.3266 - accuracy: 0.8597\n",
      "Epoch 126/150\n",
      "90/90 [==============================] - 0s 653us/step - loss: 0.3216 - accuracy: 0.8721\n",
      "Epoch 127/150\n",
      "90/90 [==============================] - 0s 677us/step - loss: 0.3245 - accuracy: 0.8687\n",
      "Epoch 128/150\n",
      "90/90 [==============================] - 0s 677us/step - loss: 0.3240 - accuracy: 0.8664\n",
      "Epoch 129/150\n",
      "90/90 [==============================] - 0s 683us/step - loss: 0.3230 - accuracy: 0.8620\n",
      "Epoch 130/150\n",
      "90/90 [==============================] - 0s 707us/step - loss: 0.3259 - accuracy: 0.8653\n",
      "Epoch 131/150\n",
      "90/90 [==============================] - 0s 837us/step - loss: 0.3229 - accuracy: 0.8709\n",
      "Epoch 132/150\n",
      "90/90 [==============================] - 0s 684us/step - loss: 0.3167 - accuracy: 0.8743\n",
      "Epoch 133/150\n",
      "90/90 [==============================] - 0s 733us/step - loss: 0.3228 - accuracy: 0.8721\n",
      "Epoch 134/150\n",
      "90/90 [==============================] - 0s 672us/step - loss: 0.3189 - accuracy: 0.8687\n",
      "Epoch 135/150\n",
      "90/90 [==============================] - 0s 639us/step - loss: 0.3175 - accuracy: 0.8709\n",
      "Epoch 136/150\n",
      "90/90 [==============================] - 0s 759us/step - loss: 0.3204 - accuracy: 0.8664\n",
      "Epoch 137/150\n",
      "90/90 [==============================] - 0s 868us/step - loss: 0.3210 - accuracy: 0.8732\n",
      "Epoch 138/150\n",
      "90/90 [==============================] - 0s 716us/step - loss: 0.3189 - accuracy: 0.8709\n",
      "Epoch 139/150\n",
      "90/90 [==============================] - 0s 683us/step - loss: 0.3238 - accuracy: 0.8608\n",
      "Epoch 140/150\n",
      "90/90 [==============================] - 0s 688us/step - loss: 0.3217 - accuracy: 0.8664\n",
      "Epoch 141/150\n",
      "90/90 [==============================] - 0s 690us/step - loss: 0.3197 - accuracy: 0.8664\n",
      "Epoch 142/150\n",
      "90/90 [==============================] - 0s 729us/step - loss: 0.3170 - accuracy: 0.8732\n",
      "Epoch 143/150\n",
      "90/90 [==============================] - 0s 799us/step - loss: 0.3214 - accuracy: 0.8687\n",
      "Epoch 144/150\n",
      "90/90 [==============================] - 0s 703us/step - loss: 0.3232 - accuracy: 0.8687\n",
      "Epoch 145/150\n",
      "90/90 [==============================] - 0s 695us/step - loss: 0.3179 - accuracy: 0.8698\n",
      "Epoch 146/150\n",
      "90/90 [==============================] - 0s 668us/step - loss: 0.3216 - accuracy: 0.8664\n",
      "Epoch 147/150\n",
      "90/90 [==============================] - 0s 698us/step - loss: 0.3174 - accuracy: 0.8698\n",
      "Epoch 148/150\n",
      "90/90 [==============================] - 0s 743us/step - loss: 0.3211 - accuracy: 0.8698\n",
      "Epoch 149/150\n",
      "90/90 [==============================] - 0s 776us/step - loss: 0.3252 - accuracy: 0.8631\n",
      "Epoch 150/150\n",
      "90/90 [==============================] - 0s 738us/step - loss: 0.3181 - accuracy: 0.8732\n"
     ]
    }
   ],
   "source": [
    "history = model.fit(X,y, epochs=150, batch_size=10, verbose=1)"
   ]
  },
  {
   "cell_type": "code",
   "execution_count": 96,
   "metadata": {},
   "outputs": [
    {
     "name": "stdout",
     "output_type": "stream",
     "text": [
      "Model: \"sequential_2\"\n",
      "_________________________________________________________________\n",
      "Layer (type)                 Output Shape              Param #   \n",
      "=================================================================\n",
      "dense_11 (Dense)             (None, 12)                144       \n",
      "_________________________________________________________________\n",
      "dense_12 (Dense)             (None, 8)                 104       \n",
      "_________________________________________________________________\n",
      "dense_13 (Dense)             (None, 8)                 72        \n",
      "_________________________________________________________________\n",
      "dense_14 (Dense)             (None, 8)                 72        \n",
      "_________________________________________________________________\n",
      "dense_15 (Dense)             (None, 4)                 36        \n",
      "_________________________________________________________________\n",
      "dense_16 (Dense)             (None, 1)                 5         \n",
      "=================================================================\n",
      "Total params: 433\n",
      "Trainable params: 433\n",
      "Non-trainable params: 0\n",
      "_________________________________________________________________\n"
     ]
    }
   ],
   "source": [
    "model.summary()"
   ]
  },
  {
   "cell_type": "code",
   "execution_count": 97,
   "metadata": {},
   "outputs": [
    {
     "name": "stdout",
     "output_type": "stream",
     "text": [
      "28/28 [==============================] - 0s 776us/step - loss: 0.3125 - accuracy: 0.8765\n"
     ]
    }
   ],
   "source": [
    "scores=model.evaluate(X,y)"
   ]
  },
  {
   "cell_type": "code",
   "execution_count": 98,
   "metadata": {},
   "outputs": [
    {
     "name": "stdout",
     "output_type": "stream",
     "text": [
      "accuracy:87%\n"
     ]
    }
   ],
   "source": [
    "print(\"%s:%.2r%%\" % (model.metrics_names[1],scores[1]*100))"
   ]
  },
  {
   "cell_type": "code",
   "execution_count": 101,
   "metadata": {},
   "outputs": [
    {
     "name": "stdout",
     "output_type": "stream",
     "text": [
      "dict_keys(['loss', 'accuracy'])\n"
     ]
    }
   ],
   "source": [
    "print(history.history.keys())"
   ]
  },
  {
   "cell_type": "code",
   "execution_count": 99,
   "metadata": {},
   "outputs": [],
   "source": [
    "import matplotlib.pyplot as plt\n",
    "%matplotlib inline"
   ]
  },
  {
   "cell_type": "code",
   "execution_count": 102,
   "metadata": {},
   "outputs": [
    {
     "data": {
      "text/plain": [
       "<matplotlib.legend.Legend at 0x1f7b4a1ce80>"
      ]
     },
     "execution_count": 102,
     "metadata": {},
     "output_type": "execute_result"
    },
    {
     "data": {
      "image/png": "[encoded data removed]",
      "text/plain": [
       "<Figure size 432x288 with 1 Axes>"
      ]
     },
     "metadata": {
      "needs_background": "light"
     },
     "output_type": "display_data"
    }
   ],
   "source": [
    "fig1=plt.figure(1)\n",
    "plt.plot(history.history[\"accuracy\"])\n",
    "plt.title(\"Model Accuracy\")\n",
    "plt.xlabel(\"Accuracy\")\n",
    "plt.ylabel(\"Epoch\")\n",
    "plt.legend([\"training\", \"testing\"], loc= \"upper left\")\n"
   ]
  },
  {
   "cell_type": "code",
   "execution_count": null,
   "metadata": {},
   "outputs": [],
   "source": []
  }
 ],
 "metadata": {
  "kernelspec": {
   "display_name": "Python 3",
   "language": "python",
   "name": "python3"
  },
  "language_info": {
   "codemirror_mode": {
    "name": "ipython",
    "version": 3
   },
   "file_extension": ".py",
   "mimetype": "text/x-python",
   "name": "python",
   "nbconvert_exporter": "python",
   "pygments_lexer": "ipython3",
   "version": "3.8.5"
  }
 },
 "nbformat": 4,
 "nbformat_minor": 4
}
